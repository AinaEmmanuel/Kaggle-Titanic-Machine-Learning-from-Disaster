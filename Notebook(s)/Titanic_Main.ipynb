{
  "nbformat": 4,
  "nbformat_minor": 0,
  "metadata": {
    "colab": {
      "name": "Titanic_Main.ipynb",
      "provenance": [],
      "collapsed_sections": []
    },
    "kernelspec": {
      "display_name": "Python 3",
      "language": "python",
      "name": "python3"
    },
    "language_info": {
      "codemirror_mode": {
        "name": "ipython",
        "version": 3
      },
      "file_extension": ".py",
      "mimetype": "text/x-python",
      "name": "python",
      "nbconvert_exporter": "python",
      "pygments_lexer": "ipython3",
      "version": "3.7.6"
    },
    "accelerator": "GPU"
  },
  "cells": [
    {
      "cell_type": "markdown",
      "metadata": {
        "colab_type": "text",
        "id": "v70t4KUoKa7s"
      },
      "source": [
        "### Modules\n"
      ]
    },
    {
      "cell_type": "code",
      "metadata": {
        "colab_type": "code",
        "id": "2jSQKRqJEllm",
        "trusted": true,
        "colab": {
          "base_uri": "https://localhost:8080/",
          "height": 90
        },
        "outputId": "d0adb0d6-20d7-4c94-bb29-37c4c2b72fee"
      },
      "source": [
        "# !pip install lightgbm\n",
        "# !pip install xgboost\n",
        "\n",
        "\n",
        "import numpy as np\n",
        "import pandas as pd\n",
        "import sklearn\n",
        "import matplotlib.pyplot as plt\n",
        "import seaborn as sns\n",
        "\n",
        "from sklearn.preprocessing import LabelEncoder, MinMaxScaler, StandardScaler\n",
        "from sklearn.model_selection import train_test_split as tts\n",
        "from sklearn.metrics import accuracy_score, confusion_matrix\n",
        "\n",
        "from sklearn.ensemble import RandomForestClassifier, AdaBoostClassifier, BaggingClassifier, VotingClassifier\n",
        "# from lightgbm import LGBMClassifier\n",
        "from xgboost import XGBClassifier\n",
        "from sklearn.tree import DecisionTreeClassifier\n",
        "import warnings\n",
        "warnings.filterwarnings('ignore')\n",
        "\n",
        "\n",
        "print(\"Done!\")"
      ],
      "execution_count": 1,
      "outputs": [
        {
          "output_type": "stream",
          "text": [
            "Done!\n"
          ],
          "name": "stdout"
        },
        {
          "output_type": "stream",
          "text": [
            "/usr/local/lib/python3.6/dist-packages/statsmodels/tools/_testing.py:19: FutureWarning: pandas.util.testing is deprecated. Use the functions in the public API at pandas.testing instead.\n",
            "  import pandas.util.testing as tm\n"
          ],
          "name": "stderr"
        }
      ]
    },
    {
      "cell_type": "markdown",
      "metadata": {
        "id": "DCTQljoxz6yp",
        "colab_type": "text"
      },
      "source": [
        "### Data\n"
      ]
    },
    {
      "cell_type": "code",
      "metadata": {
        "id": "eHuqn5wOz98_",
        "colab_type": "code",
        "colab": {}
      },
      "source": [
        "# from google.colab import drive\n",
        "# drive.mount('/content/drive')"
      ],
      "execution_count": 2,
      "outputs": []
    },
    {
      "cell_type": "code",
      "metadata": {
        "colab_type": "code",
        "id": "pLM0fao3T4Oa",
        "trusted": true,
        "colab": {
          "base_uri": "https://localhost:8080/",
          "height": 34
        },
        "outputId": "7188eaeb-2983-443f-a570-4857ba2a4563"
      },
      "source": [
        "# #My google colab\n",
        "# train_file = pd.read_csv('drive/My Drive/Challenge_Comps_Hacktons/Kaggle - Titanic Challenge/train.csv')\n",
        "# test_file = pd.read_csv('drive/My Drive/Challenge_Comps_Hacktons/Kaggle - Titanic Challenge/test.csv')\n",
        "\n",
        "#jupyter\n",
        "train_file = pd.read_csv('train.csv')\n",
        "test_file = pd.read_csv(\"test.csv\")\n",
        "\n",
        "#Target\n",
        "y = train_file['Survived']\n",
        "\n",
        "#Combining the test and train data\n",
        "joint = pd.concat([train_file,test_file])\n",
        "\n",
        "#Submission ID\n",
        "sub_id = test_file['PassengerId']\n",
        "print('Done')"
      ],
      "execution_count": 3,
      "outputs": [
        {
          "output_type": "stream",
          "text": [
            "Done\n"
          ],
          "name": "stdout"
        }
      ]
    },
    {
      "cell_type": "code",
      "metadata": {
        "trusted": true,
        "id": "DSrxwwFqtJeg",
        "colab_type": "code",
        "colab": {
          "base_uri": "https://localhost:8080/",
          "height": 189
        },
        "outputId": "c6325724-aee0-45c7-e85f-95121743cc04"
      },
      "source": [
        "joint.head(5)"
      ],
      "execution_count": 4,
      "outputs": [
        {
          "output_type": "execute_result",
          "data": {
            "text/html": [
              "<div>\n",
              "<style scoped>\n",
              "    .dataframe tbody tr th:only-of-type {\n",
              "        vertical-align: middle;\n",
              "    }\n",
              "\n",
              "    .dataframe tbody tr th {\n",
              "        vertical-align: top;\n",
              "    }\n",
              "\n",
              "    .dataframe thead th {\n",
              "        text-align: right;\n",
              "    }\n",
              "</style>\n",
              "<table border=\"1\" class=\"dataframe\">\n",
              "  <thead>\n",
              "    <tr style=\"text-align: right;\">\n",
              "      <th></th>\n",
              "      <th>PassengerId</th>\n",
              "      <th>Survived</th>\n",
              "      <th>Pclass</th>\n",
              "      <th>Name</th>\n",
              "      <th>Sex</th>\n",
              "      <th>Age</th>\n",
              "      <th>SibSp</th>\n",
              "      <th>Parch</th>\n",
              "      <th>Ticket</th>\n",
              "      <th>Fare</th>\n",
              "      <th>Cabin</th>\n",
              "      <th>Embarked</th>\n",
              "    </tr>\n",
              "  </thead>\n",
              "  <tbody>\n",
              "    <tr>\n",
              "      <th>0</th>\n",
              "      <td>1</td>\n",
              "      <td>0.0</td>\n",
              "      <td>3</td>\n",
              "      <td>Braund, Mr. Owen Harris</td>\n",
              "      <td>male</td>\n",
              "      <td>22.0</td>\n",
              "      <td>1</td>\n",
              "      <td>0</td>\n",
              "      <td>A/5 21171</td>\n",
              "      <td>7.2500</td>\n",
              "      <td>NaN</td>\n",
              "      <td>S</td>\n",
              "    </tr>\n",
              "    <tr>\n",
              "      <th>1</th>\n",
              "      <td>2</td>\n",
              "      <td>1.0</td>\n",
              "      <td>1</td>\n",
              "      <td>Cumings, Mrs. John Bradley (Florence Briggs Th...</td>\n",
              "      <td>female</td>\n",
              "      <td>38.0</td>\n",
              "      <td>1</td>\n",
              "      <td>0</td>\n",
              "      <td>PC 17599</td>\n",
              "      <td>71.2833</td>\n",
              "      <td>C85</td>\n",
              "      <td>C</td>\n",
              "    </tr>\n",
              "    <tr>\n",
              "      <th>2</th>\n",
              "      <td>3</td>\n",
              "      <td>1.0</td>\n",
              "      <td>3</td>\n",
              "      <td>Heikkinen, Miss. Laina</td>\n",
              "      <td>female</td>\n",
              "      <td>26.0</td>\n",
              "      <td>0</td>\n",
              "      <td>0</td>\n",
              "      <td>STON/O2. 3101282</td>\n",
              "      <td>7.9250</td>\n",
              "      <td>NaN</td>\n",
              "      <td>S</td>\n",
              "    </tr>\n",
              "    <tr>\n",
              "      <th>3</th>\n",
              "      <td>4</td>\n",
              "      <td>1.0</td>\n",
              "      <td>1</td>\n",
              "      <td>Futrelle, Mrs. Jacques Heath (Lily May Peel)</td>\n",
              "      <td>female</td>\n",
              "      <td>35.0</td>\n",
              "      <td>1</td>\n",
              "      <td>0</td>\n",
              "      <td>113803</td>\n",
              "      <td>53.1000</td>\n",
              "      <td>C123</td>\n",
              "      <td>S</td>\n",
              "    </tr>\n",
              "    <tr>\n",
              "      <th>4</th>\n",
              "      <td>5</td>\n",
              "      <td>0.0</td>\n",
              "      <td>3</td>\n",
              "      <td>Allen, Mr. William Henry</td>\n",
              "      <td>male</td>\n",
              "      <td>35.0</td>\n",
              "      <td>0</td>\n",
              "      <td>0</td>\n",
              "      <td>373450</td>\n",
              "      <td>8.0500</td>\n",
              "      <td>NaN</td>\n",
              "      <td>S</td>\n",
              "    </tr>\n",
              "  </tbody>\n",
              "</table>\n",
              "</div>"
            ],
            "text/plain": [
              "   PassengerId  Survived  Pclass  ...     Fare Cabin  Embarked\n",
              "0            1       0.0       3  ...   7.2500   NaN         S\n",
              "1            2       1.0       1  ...  71.2833   C85         C\n",
              "2            3       1.0       3  ...   7.9250   NaN         S\n",
              "3            4       1.0       1  ...  53.1000  C123         S\n",
              "4            5       0.0       3  ...   8.0500   NaN         S\n",
              "\n",
              "[5 rows x 12 columns]"
            ]
          },
          "metadata": {
            "tags": []
          },
          "execution_count": 4
        }
      ]
    },
    {
      "cell_type": "code",
      "metadata": {
        "colab_type": "code",
        "id": "Zm_30sHCUMOy",
        "trusted": true,
        "colab": {
          "base_uri": "https://localhost:8080/",
          "height": 516
        },
        "outputId": "12e5ea2a-1337-4647-bdd4-a3a76af46838"
      },
      "source": [
        "#Missing values\n",
        "\n",
        "print(\"Train:\")\n",
        "print(train_file.isnull().sum())\n",
        "\n",
        "print(\"\\nTest:\")\n",
        "print(test_file.isnull().sum())"
      ],
      "execution_count": 5,
      "outputs": [
        {
          "output_type": "stream",
          "text": [
            "Train:\n",
            "PassengerId      0\n",
            "Survived         0\n",
            "Pclass           0\n",
            "Name             0\n",
            "Sex              0\n",
            "Age            177\n",
            "SibSp            0\n",
            "Parch            0\n",
            "Ticket           0\n",
            "Fare             0\n",
            "Cabin          687\n",
            "Embarked         2\n",
            "dtype: int64\n",
            "\n",
            "Test:\n",
            "PassengerId      0\n",
            "Pclass           0\n",
            "Name             0\n",
            "Sex              0\n",
            "Age             86\n",
            "SibSp            0\n",
            "Parch            0\n",
            "Ticket           0\n",
            "Fare             1\n",
            "Cabin          327\n",
            "Embarked         0\n",
            "dtype: int64\n"
          ],
          "name": "stdout"
        }
      ]
    },
    {
      "cell_type": "code",
      "metadata": {
        "trusted": true,
        "id": "D2JiLZ7AtJfT",
        "colab_type": "code",
        "colab": {
          "base_uri": "https://localhost:8080/",
          "height": 355
        },
        "outputId": "d36a51f5-837e-4850-d5b5-c5580f4690d5"
      },
      "source": [
        "train_file.info()"
      ],
      "execution_count": 6,
      "outputs": [
        {
          "output_type": "stream",
          "text": [
            "<class 'pandas.core.frame.DataFrame'>\n",
            "RangeIndex: 891 entries, 0 to 890\n",
            "Data columns (total 12 columns):\n",
            " #   Column       Non-Null Count  Dtype  \n",
            "---  ------       --------------  -----  \n",
            " 0   PassengerId  891 non-null    int64  \n",
            " 1   Survived     891 non-null    int64  \n",
            " 2   Pclass       891 non-null    int64  \n",
            " 3   Name         891 non-null    object \n",
            " 4   Sex          891 non-null    object \n",
            " 5   Age          714 non-null    float64\n",
            " 6   SibSp        891 non-null    int64  \n",
            " 7   Parch        891 non-null    int64  \n",
            " 8   Ticket       891 non-null    object \n",
            " 9   Fare         891 non-null    float64\n",
            " 10  Cabin        204 non-null    object \n",
            " 11  Embarked     889 non-null    object \n",
            "dtypes: float64(2), int64(5), object(5)\n",
            "memory usage: 83.7+ KB\n"
          ],
          "name": "stdout"
        }
      ]
    },
    {
      "cell_type": "code",
      "metadata": {
        "trusted": true,
        "id": "r7Txjsl2tJfj",
        "colab_type": "code",
        "colab": {
          "base_uri": "https://localhost:8080/",
          "height": 303
        },
        "outputId": "c4de7b1e-5f54-445d-943e-15a47c4f43c5"
      },
      "source": [
        "train_file.describe(percentiles=[0.2,0.3,0.7])"
      ],
      "execution_count": 7,
      "outputs": [
        {
          "output_type": "execute_result",
          "data": {
            "text/html": [
              "<div>\n",
              "<style scoped>\n",
              "    .dataframe tbody tr th:only-of-type {\n",
              "        vertical-align: middle;\n",
              "    }\n",
              "\n",
              "    .dataframe tbody tr th {\n",
              "        vertical-align: top;\n",
              "    }\n",
              "\n",
              "    .dataframe thead th {\n",
              "        text-align: right;\n",
              "    }\n",
              "</style>\n",
              "<table border=\"1\" class=\"dataframe\">\n",
              "  <thead>\n",
              "    <tr style=\"text-align: right;\">\n",
              "      <th></th>\n",
              "      <th>PassengerId</th>\n",
              "      <th>Survived</th>\n",
              "      <th>Pclass</th>\n",
              "      <th>Age</th>\n",
              "      <th>SibSp</th>\n",
              "      <th>Parch</th>\n",
              "      <th>Fare</th>\n",
              "    </tr>\n",
              "  </thead>\n",
              "  <tbody>\n",
              "    <tr>\n",
              "      <th>count</th>\n",
              "      <td>891.000000</td>\n",
              "      <td>891.000000</td>\n",
              "      <td>891.000000</td>\n",
              "      <td>714.000000</td>\n",
              "      <td>891.000000</td>\n",
              "      <td>891.000000</td>\n",
              "      <td>891.000000</td>\n",
              "    </tr>\n",
              "    <tr>\n",
              "      <th>mean</th>\n",
              "      <td>446.000000</td>\n",
              "      <td>0.383838</td>\n",
              "      <td>2.308642</td>\n",
              "      <td>29.699118</td>\n",
              "      <td>0.523008</td>\n",
              "      <td>0.381594</td>\n",
              "      <td>32.204208</td>\n",
              "    </tr>\n",
              "    <tr>\n",
              "      <th>std</th>\n",
              "      <td>257.353842</td>\n",
              "      <td>0.486592</td>\n",
              "      <td>0.836071</td>\n",
              "      <td>14.526497</td>\n",
              "      <td>1.102743</td>\n",
              "      <td>0.806057</td>\n",
              "      <td>49.693429</td>\n",
              "    </tr>\n",
              "    <tr>\n",
              "      <th>min</th>\n",
              "      <td>1.000000</td>\n",
              "      <td>0.000000</td>\n",
              "      <td>1.000000</td>\n",
              "      <td>0.420000</td>\n",
              "      <td>0.000000</td>\n",
              "      <td>0.000000</td>\n",
              "      <td>0.000000</td>\n",
              "    </tr>\n",
              "    <tr>\n",
              "      <th>20%</th>\n",
              "      <td>179.000000</td>\n",
              "      <td>0.000000</td>\n",
              "      <td>1.000000</td>\n",
              "      <td>19.000000</td>\n",
              "      <td>0.000000</td>\n",
              "      <td>0.000000</td>\n",
              "      <td>7.854200</td>\n",
              "    </tr>\n",
              "    <tr>\n",
              "      <th>30%</th>\n",
              "      <td>268.000000</td>\n",
              "      <td>0.000000</td>\n",
              "      <td>2.000000</td>\n",
              "      <td>22.000000</td>\n",
              "      <td>0.000000</td>\n",
              "      <td>0.000000</td>\n",
              "      <td>8.050000</td>\n",
              "    </tr>\n",
              "    <tr>\n",
              "      <th>50%</th>\n",
              "      <td>446.000000</td>\n",
              "      <td>0.000000</td>\n",
              "      <td>3.000000</td>\n",
              "      <td>28.000000</td>\n",
              "      <td>0.000000</td>\n",
              "      <td>0.000000</td>\n",
              "      <td>14.454200</td>\n",
              "    </tr>\n",
              "    <tr>\n",
              "      <th>70%</th>\n",
              "      <td>624.000000</td>\n",
              "      <td>1.000000</td>\n",
              "      <td>3.000000</td>\n",
              "      <td>36.000000</td>\n",
              "      <td>1.000000</td>\n",
              "      <td>0.000000</td>\n",
              "      <td>27.000000</td>\n",
              "    </tr>\n",
              "    <tr>\n",
              "      <th>max</th>\n",
              "      <td>891.000000</td>\n",
              "      <td>1.000000</td>\n",
              "      <td>3.000000</td>\n",
              "      <td>80.000000</td>\n",
              "      <td>8.000000</td>\n",
              "      <td>6.000000</td>\n",
              "      <td>512.329200</td>\n",
              "    </tr>\n",
              "  </tbody>\n",
              "</table>\n",
              "</div>"
            ],
            "text/plain": [
              "       PassengerId    Survived      Pclass  ...       SibSp       Parch        Fare\n",
              "count   891.000000  891.000000  891.000000  ...  891.000000  891.000000  891.000000\n",
              "mean    446.000000    0.383838    2.308642  ...    0.523008    0.381594   32.204208\n",
              "std     257.353842    0.486592    0.836071  ...    1.102743    0.806057   49.693429\n",
              "min       1.000000    0.000000    1.000000  ...    0.000000    0.000000    0.000000\n",
              "20%     179.000000    0.000000    1.000000  ...    0.000000    0.000000    7.854200\n",
              "30%     268.000000    0.000000    2.000000  ...    0.000000    0.000000    8.050000\n",
              "50%     446.000000    0.000000    3.000000  ...    0.000000    0.000000   14.454200\n",
              "70%     624.000000    1.000000    3.000000  ...    1.000000    0.000000   27.000000\n",
              "max     891.000000    1.000000    3.000000  ...    8.000000    6.000000  512.329200\n",
              "\n",
              "[9 rows x 7 columns]"
            ]
          },
          "metadata": {
            "tags": []
          },
          "execution_count": 7
        }
      ]
    },
    {
      "cell_type": "code",
      "metadata": {
        "id": "jCA_7DbftJgm",
        "colab_type": "code",
        "colab": {}
      },
      "source": [
        ""
      ],
      "execution_count": 7,
      "outputs": []
    },
    {
      "cell_type": "markdown",
      "metadata": {
        "id": "5z6ISQvCtJhD",
        "colab_type": "text"
      },
      "source": [
        "### Visualizing Some of the Features"
      ]
    },
    {
      "cell_type": "markdown",
      "metadata": {
        "id": "SginOKPatJhF",
        "colab_type": "text"
      },
      "source": [
        "#### Parch and Sibsp"
      ]
    },
    {
      "cell_type": "code",
      "metadata": {
        "trusted": true,
        "id": "ALIq3dmotJhH",
        "colab_type": "code",
        "colab": {
          "base_uri": "https://localhost:8080/",
          "height": 369
        },
        "outputId": "963154ce-ad0e-4eef-896d-5d99b62ed78f"
      },
      "source": [
        "fig, ax = plt.subplots(ncols=2, figsize=(10,5))\n",
        "sns.countplot(train_file.Parch, hue=train_file.Survived, ax=ax[0])\n",
        "sns.countplot(train_file.SibSp, hue=train_file.Survived, ax=ax[1])\n",
        "fig.tight_layout()\n",
        "\n",
        "# From the chart we can see that:\n",
        "# 1. A lot of people onboard were Alone\n",
        "# 2. Those with Very Few Family Members had a higher Survival Rate"
      ],
      "execution_count": 8,
      "outputs": [
        {
          "output_type": "display_data",
          "data": {
            "image/png": "[encoded data removed]",
            "text/plain": [
              "<Figure size 720x360 with 2 Axes>"
            ]
          },
          "metadata": {
            "tags": [],
            "needs_background": "light"
          }
        }
      ]
    },
    {
      "cell_type": "markdown",
      "metadata": {
        "id": "SeYFMlZltJhS",
        "colab_type": "text"
      },
      "source": [
        "#### Sex"
      ]
    },
    {
      "cell_type": "code",
      "metadata": {
        "trusted": true,
        "id": "q8ST-mHKtJhU",
        "colab_type": "code",
        "colab": {
          "base_uri": "https://localhost:8080/",
          "height": 451
        },
        "outputId": "7219169b-5298-49cd-91d6-061d30a26b63"
      },
      "source": [
        "sns.countplot(train_file.Sex, hue=train_file.Survived)\n",
        "# Majority of the Survivors were Females\n",
        "\n",
        "pd.DataFrame(train_file.groupby('Sex').Survived.value_counts())\n",
        "# 68% of the Survivors were Ladies"
      ],
      "execution_count": 9,
      "outputs": [
        {
          "output_type": "execute_result",
          "data": {
            "text/html": [
              "<div>\n",
              "<style scoped>\n",
              "    .dataframe tbody tr th:only-of-type {\n",
              "        vertical-align: middle;\n",
              "    }\n",
              "\n",
              "    .dataframe tbody tr th {\n",
              "        vertical-align: top;\n",
              "    }\n",
              "\n",
              "    .dataframe thead th {\n",
              "        text-align: right;\n",
              "    }\n",
              "</style>\n",
              "<table border=\"1\" class=\"dataframe\">\n",
              "  <thead>\n",
              "    <tr style=\"text-align: right;\">\n",
              "      <th></th>\n",
              "      <th></th>\n",
              "      <th>Survived</th>\n",
              "    </tr>\n",
              "    <tr>\n",
              "      <th>Sex</th>\n",
              "      <th>Survived</th>\n",
              "      <th></th>\n",
              "    </tr>\n",
              "  </thead>\n",
              "  <tbody>\n",
              "    <tr>\n",
              "      <th rowspan=\"2\" valign=\"top\">female</th>\n",
              "      <th>1</th>\n",
              "      <td>233</td>\n",
              "    </tr>\n",
              "    <tr>\n",
              "      <th>0</th>\n",
              "      <td>81</td>\n",
              "    </tr>\n",
              "    <tr>\n",
              "      <th rowspan=\"2\" valign=\"top\">male</th>\n",
              "      <th>0</th>\n",
              "      <td>468</td>\n",
              "    </tr>\n",
              "    <tr>\n",
              "      <th>1</th>\n",
              "      <td>109</td>\n",
              "    </tr>\n",
              "  </tbody>\n",
              "</table>\n",
              "</div>"
            ],
            "text/plain": [
              "                 Survived\n",
              "Sex    Survived          \n",
              "female 1              233\n",
              "       0               81\n",
              "male   0              468\n",
              "       1              109"
            ]
          },
          "metadata": {
            "tags": []
          },
          "execution_count": 9
        },
        {
          "output_type": "display_data",
          "data": {
            "image/png": "[encoded data removed]",
            "text/plain": [
              "<Figure size 432x288 with 1 Axes>"
            ]
          },
          "metadata": {
            "tags": [],
            "needs_background": "light"
          }
        }
      ]
    },
    {
      "cell_type": "markdown",
      "metadata": {
        "id": "HUrxbaUmtJhf",
        "colab_type": "text"
      },
      "source": [
        "#### Pclass"
      ]
    },
    {
      "cell_type": "code",
      "metadata": {
        "trusted": true,
        "id": "Ysy2TFrMtJhh",
        "colab_type": "code",
        "colab": {
          "base_uri": "https://localhost:8080/",
          "height": 508
        },
        "outputId": "471b0608-f609-45c6-ab1a-a36e9afe295b"
      },
      "source": [
        "sns.countplot(train_file.Pclass, hue=train_file.Survived)\n",
        "pd.DataFrame(train_file.groupby('Pclass').Survived.value_counts())\n",
        "\n",
        "#From the chart:\n",
        "#1. First Class Passengers had high survival rate (39%)\n",
        "#2. Majority of the passengers (55%) are from Third Class, and\n",
        "#3. Third Class passengers had the highest Death Rate (67%)"
      ],
      "execution_count": 10,
      "outputs": [
        {
          "output_type": "execute_result",
          "data": {
            "text/html": [
              "<div>\n",
              "<style scoped>\n",
              "    .dataframe tbody tr th:only-of-type {\n",
              "        vertical-align: middle;\n",
              "    }\n",
              "\n",
              "    .dataframe tbody tr th {\n",
              "        vertical-align: top;\n",
              "    }\n",
              "\n",
              "    .dataframe thead th {\n",
              "        text-align: right;\n",
              "    }\n",
              "</style>\n",
              "<table border=\"1\" class=\"dataframe\">\n",
              "  <thead>\n",
              "    <tr style=\"text-align: right;\">\n",
              "      <th></th>\n",
              "      <th></th>\n",
              "      <th>Survived</th>\n",
              "    </tr>\n",
              "    <tr>\n",
              "      <th>Pclass</th>\n",
              "      <th>Survived</th>\n",
              "      <th></th>\n",
              "    </tr>\n",
              "  </thead>\n",
              "  <tbody>\n",
              "    <tr>\n",
              "      <th rowspan=\"2\" valign=\"top\">1</th>\n",
              "      <th>1</th>\n",
              "      <td>136</td>\n",
              "    </tr>\n",
              "    <tr>\n",
              "      <th>0</th>\n",
              "      <td>80</td>\n",
              "    </tr>\n",
              "    <tr>\n",
              "      <th rowspan=\"2\" valign=\"top\">2</th>\n",
              "      <th>0</th>\n",
              "      <td>97</td>\n",
              "    </tr>\n",
              "    <tr>\n",
              "      <th>1</th>\n",
              "      <td>87</td>\n",
              "    </tr>\n",
              "    <tr>\n",
              "      <th rowspan=\"2\" valign=\"top\">3</th>\n",
              "      <th>0</th>\n",
              "      <td>372</td>\n",
              "    </tr>\n",
              "    <tr>\n",
              "      <th>1</th>\n",
              "      <td>119</td>\n",
              "    </tr>\n",
              "  </tbody>\n",
              "</table>\n",
              "</div>"
            ],
            "text/plain": [
              "                 Survived\n",
              "Pclass Survived          \n",
              "1      1              136\n",
              "       0               80\n",
              "2      0               97\n",
              "       1               87\n",
              "3      0              372\n",
              "       1              119"
            ]
          },
          "metadata": {
            "tags": []
          },
          "execution_count": 10
        },
        {
          "output_type": "display_data",
          "data": {
            "image/png": "[encoded data removed]",
            "text/plain": [
              "<Figure size 432x288 with 1 Axes>"
            ]
          },
          "metadata": {
            "tags": [],
            "needs_background": "light"
          }
        }
      ]
    },
    {
      "cell_type": "markdown",
      "metadata": {
        "id": "FJFkGMHctJhr",
        "colab_type": "text"
      },
      "source": [
        "#### Embarked"
      ]
    },
    {
      "cell_type": "code",
      "metadata": {
        "trusted": true,
        "id": "76qHe5zBtJhu",
        "colab_type": "code",
        "colab": {
          "base_uri": "https://localhost:8080/",
          "height": 508
        },
        "outputId": "722d3a66-579a-418a-cc12-b0a79ae8aba0"
      },
      "source": [
        "sns.countplot(train_file.Embarked, hue=train_file.Survived)\n",
        "pd.DataFrame(train_file.groupby('Embarked').Survived.value_counts())\n",
        "\n",
        "#From this chart wwe can see that:\n",
        "#1. Majority of the people on board Embarked from 'S', and\n",
        "#2. People from 'C' had higher Survival Rate"
      ],
      "execution_count": 11,
      "outputs": [
        {
          "output_type": "execute_result",
          "data": {
            "text/html": [
              "<div>\n",
              "<style scoped>\n",
              "    .dataframe tbody tr th:only-of-type {\n",
              "        vertical-align: middle;\n",
              "    }\n",
              "\n",
              "    .dataframe tbody tr th {\n",
              "        vertical-align: top;\n",
              "    }\n",
              "\n",
              "    .dataframe thead th {\n",
              "        text-align: right;\n",
              "    }\n",
              "</style>\n",
              "<table border=\"1\" class=\"dataframe\">\n",
              "  <thead>\n",
              "    <tr style=\"text-align: right;\">\n",
              "      <th></th>\n",
              "      <th></th>\n",
              "      <th>Survived</th>\n",
              "    </tr>\n",
              "    <tr>\n",
              "      <th>Embarked</th>\n",
              "      <th>Survived</th>\n",
              "      <th></th>\n",
              "    </tr>\n",
              "  </thead>\n",
              "  <tbody>\n",
              "    <tr>\n",
              "      <th rowspan=\"2\" valign=\"top\">C</th>\n",
              "      <th>1</th>\n",
              "      <td>93</td>\n",
              "    </tr>\n",
              "    <tr>\n",
              "      <th>0</th>\n",
              "      <td>75</td>\n",
              "    </tr>\n",
              "    <tr>\n",
              "      <th rowspan=\"2\" valign=\"top\">Q</th>\n",
              "      <th>0</th>\n",
              "      <td>47</td>\n",
              "    </tr>\n",
              "    <tr>\n",
              "      <th>1</th>\n",
              "      <td>30</td>\n",
              "    </tr>\n",
              "    <tr>\n",
              "      <th rowspan=\"2\" valign=\"top\">S</th>\n",
              "      <th>0</th>\n",
              "      <td>427</td>\n",
              "    </tr>\n",
              "    <tr>\n",
              "      <th>1</th>\n",
              "      <td>217</td>\n",
              "    </tr>\n",
              "  </tbody>\n",
              "</table>\n",
              "</div>"
            ],
            "text/plain": [
              "                   Survived\n",
              "Embarked Survived          \n",
              "C        1               93\n",
              "         0               75\n",
              "Q        0               47\n",
              "         1               30\n",
              "S        0              427\n",
              "         1              217"
            ]
          },
          "metadata": {
            "tags": []
          },
          "execution_count": 11
        },
        {
          "output_type": "display_data",
          "data": {
            "image/png": "[encoded data removed]",
            "text/plain": [
              "<Figure size 432x288 with 1 Axes>"
            ]
          },
          "metadata": {
            "tags": [],
            "needs_background": "light"
          }
        }
      ]
    },
    {
      "cell_type": "markdown",
      "metadata": {
        "id": "_I2zHvzgtJh-",
        "colab_type": "text"
      },
      "source": [
        "#### Fare"
      ]
    },
    {
      "cell_type": "code",
      "metadata": {
        "trusted": true,
        "id": "CFOU5GnitJiA",
        "colab_type": "code",
        "colab": {
          "base_uri": "https://localhost:8080/",
          "height": 229
        },
        "outputId": "1593a10e-0799-40ca-db17-9497f1610c1f"
      },
      "source": [
        "fig, ax = plt.subplots(ncols=2, figsize=(10,3))\n",
        "\n",
        "x = ['Fare']\n",
        "sns.boxplot(train_file[x], ax=ax[0])\n",
        "sns.distplot(train_file[x], kde=True, ax=ax[1])\n",
        "plt.show()\n",
        "\n",
        "print(\"Skewedness: \",train_file.Fare.skew())\n",
        "\n",
        "# The Fare column is skewed to the right\n",
        "# Outliers are present"
      ],
      "execution_count": 12,
      "outputs": [
        {
          "output_type": "display_data",
          "data": {
            "image/png": "[encoded data removed]",
            "text/plain": [
              "<Figure size 720x216 with 2 Axes>"
            ]
          },
          "metadata": {
            "tags": [],
            "needs_background": "light"
          }
        },
        {
          "output_type": "stream",
          "text": [
            "Skewedness:  4.787316519674893\n"
          ],
          "name": "stdout"
        }
      ]
    },
    {
      "cell_type": "markdown",
      "metadata": {
        "id": "u_dRVo93tJiO",
        "colab_type": "text"
      },
      "source": [
        "## Filling, Modifying and Adding New Features"
      ]
    },
    {
      "cell_type": "code",
      "metadata": {
        "colab_type": "code",
        "id": "Qb_ushLMVsVn",
        "trusted": true,
        "colab": {}
      },
      "source": [
        "# Filled the Embarked Column with \"S\" since it's the most occuring value\n",
        "joint['Embarked'].fillna('S', inplace=True)\n",
        "\n",
        "#Filled the Cabin Column with \"Missing Info\". The column will probably be dropped because of the large number of missing information\n",
        "joint['Cabin'].fillna('Missing Info', inplace=True)"
      ],
      "execution_count": 13,
      "outputs": []
    },
    {
      "cell_type": "code",
      "metadata": {
        "colab_type": "code",
        "id": "jlavurDvbHZd",
        "trusted": true,
        "colab": {}
      },
      "source": [
        "# joint.isna().sum()"
      ],
      "execution_count": 14,
      "outputs": []
    },
    {
      "cell_type": "markdown",
      "metadata": {
        "id": "dT0cxmHUtJij",
        "colab_type": "text"
      },
      "source": [
        "#### Cabin Solution;\n",
        "\n",
        "#### Grouping the cabins by their initials since they are similar\n"
      ]
    },
    {
      "cell_type": "code",
      "metadata": {
        "trusted": true,
        "id": "XaGOVCfVtJil",
        "colab_type": "code",
        "colab": {
          "base_uri": "https://localhost:8080/",
          "height": 141
        },
        "outputId": "4d8903cc-61ba-4407-906e-7ff28036ae97"
      },
      "source": [
        "joint['Cabin'].head(6)"
      ],
      "execution_count": 15,
      "outputs": [
        {
          "output_type": "execute_result",
          "data": {
            "text/plain": [
              "0    Missing Info\n",
              "1             C85\n",
              "2    Missing Info\n",
              "3            C123\n",
              "4    Missing Info\n",
              "5    Missing Info\n",
              "Name: Cabin, dtype: object"
            ]
          },
          "metadata": {
            "tags": []
          },
          "execution_count": 15
        }
      ]
    },
    {
      "cell_type": "code",
      "metadata": {
        "trusted": true,
        "id": "YhChcpfntJi0",
        "colab_type": "code",
        "colab": {
          "base_uri": "https://localhost:8080/",
          "height": 34
        },
        "outputId": "c6b6d8a5-3f37-455b-b490-897b295323c9"
      },
      "source": [
        "cabin_initials = []\n",
        "all_cabins = list(joint.Cabin)\n",
        "\n",
        "for x in range(0, len(all_cabins)):\n",
        "    cabin_initials.append(all_cabins[x][0])\n",
        "\n",
        "joint.Cabin = cabin_initials\n",
        "set(joint.Cabin)"
      ],
      "execution_count": 16,
      "outputs": [
        {
          "output_type": "execute_result",
          "data": {
            "text/plain": [
              "{'A', 'B', 'C', 'D', 'E', 'F', 'G', 'M', 'T'}"
            ]
          },
          "metadata": {
            "tags": []
          },
          "execution_count": 16
        }
      ]
    },
    {
      "cell_type": "code",
      "metadata": {
        "trusted": true,
        "id": "prkrZ0zrtJi9",
        "colab_type": "code",
        "colab": {
          "base_uri": "https://localhost:8080/",
          "height": 141
        },
        "outputId": "6e148076-3363-431a-a91c-117117d4e41a"
      },
      "source": [
        "joint.Cabin.head(6)"
      ],
      "execution_count": 17,
      "outputs": [
        {
          "output_type": "execute_result",
          "data": {
            "text/plain": [
              "0    M\n",
              "1    C\n",
              "2    M\n",
              "3    C\n",
              "4    M\n",
              "5    M\n",
              "Name: Cabin, dtype: object"
            ]
          },
          "metadata": {
            "tags": []
          },
          "execution_count": 17
        }
      ]
    },
    {
      "cell_type": "markdown",
      "metadata": {
        "id": "X2nMdaoKtJjL",
        "colab_type": "text"
      },
      "source": [
        "#### Adding the total family feature\n"
      ]
    },
    {
      "cell_type": "code",
      "metadata": {
        "colab_type": "code",
        "id": "5bn4KzEeJ_LX",
        "trusted": true,
        "colab": {}
      },
      "source": [
        "joint['Total_Number_Family'] = joint['Parch'] + joint['SibSp'] + 1"
      ],
      "execution_count": 18,
      "outputs": []
    },
    {
      "cell_type": "markdown",
      "metadata": {
        "id": "ABtn68t9tJjV",
        "colab_type": "text"
      },
      "source": [
        "#### Grouping the family into different sizes: Alone, Small, and Large"
      ]
    },
    {
      "cell_type": "code",
      "metadata": {
        "colab_type": "code",
        "id": "TsVxZZJwbHTB",
        "trusted": true,
        "colab": {}
      },
      "source": [
        "famsize = []\n",
        "for val in joint['Total_Number_Family']:\n",
        "    if val == 1:\n",
        "        famsize.append('Alone')\n",
        "    elif val in range(2,5):\n",
        "        famsize.append('Small_Family')\n",
        "    elif val > 4:\n",
        "        famsize.append(\"Large_Family\")\n",
        "\n",
        "joint['Famsize'] = famsize"
      ],
      "execution_count": 19,
      "outputs": []
    },
    {
      "cell_type": "code",
      "metadata": {
        "id": "zAoeaf3htJjg",
        "colab_type": "code",
        "colab": {}
      },
      "source": [
        ""
      ],
      "execution_count": 19,
      "outputs": []
    },
    {
      "cell_type": "code",
      "metadata": {
        "colab_type": "code",
        "id": "HmVlYPA0vCOa",
        "colab": {}
      },
      "source": [
        "#### Extracting the Salutaion feature from the Name Column\n"
      ],
      "execution_count": 20,
      "outputs": []
    },
    {
      "cell_type": "code",
      "metadata": {
        "colab_type": "code",
        "id": "i0QZlbNdbHLQ",
        "trusted": true,
        "colab": {
          "base_uri": "https://localhost:8080/",
          "height": 70
        },
        "outputId": "89436fc2-6e10-476b-b853-2d2785687ceb"
      },
      "source": [
        "joint['Salutation'] = joint.Name.str.split(',').str[1].str.split('.').str[0].str.strip()\n",
        "\n",
        "joint[\"Salutation\"].unique()"
      ],
      "execution_count": 21,
      "outputs": [
        {
          "output_type": "execute_result",
          "data": {
            "text/plain": [
              "array(['Mr', 'Mrs', 'Miss', 'Master', 'Don', 'Rev', 'Dr', 'Mme', 'Ms',\n",
              "       'Major', 'Lady', 'Sir', 'Mlle', 'Col', 'Capt', 'the Countess',\n",
              "       'Jonkheer', 'Dona'], dtype=object)"
            ]
          },
          "metadata": {
            "tags": []
          },
          "execution_count": 21
        }
      ]
    },
    {
      "cell_type": "markdown",
      "metadata": {
        "id": "SyLQrpOrtJka",
        "colab_type": "text"
      },
      "source": [
        "#### Simpilifing the salutation feature\n"
      ]
    },
    {
      "cell_type": "code",
      "metadata": {
        "colab_type": "code",
        "id": "Ck_93kC0bHEP",
        "trusted": true,
        "colab": {
          "base_uri": "https://localhost:8080/",
          "height": 34
        },
        "outputId": "e145b3d9-92c6-4aa1-d88b-05d0ce8a50b0"
      },
      "source": [
        "Salutation_simp = []\n",
        "for val in joint['Salutation']:\n",
        "    if val in ['Mr', 'Don',  'Major', 'Jonkheer', 'Rev', 'Dr']:\n",
        "        Salutation_simp.append('Mr')\n",
        "\n",
        "    elif val in ['Mrs', 'Dona', 'Mme','Lady','the Countess',]:\n",
        "        Salutation_simp.append('Mrs')\n",
        "\n",
        "    elif val == 'Master':\n",
        "        Salutation_simp.append('Master')\n",
        "\n",
        "    elif val in ['Miss', 'Mlle']:\n",
        "        Salutation_simp.append('Miss')\n",
        "    else:\n",
        "        Salutation_simp.append('Military')\n",
        "\n",
        "joint[\"Salutation_simp\"] = Salutation_simp\n",
        "\n",
        "joint[\"Salutation_simp\"].unique()"
      ],
      "execution_count": 22,
      "outputs": [
        {
          "output_type": "execute_result",
          "data": {
            "text/plain": [
              "array(['Mr', 'Mrs', 'Miss', 'Master', 'Military'], dtype=object)"
            ]
          },
          "metadata": {
            "tags": []
          },
          "execution_count": 22
        }
      ]
    },
    {
      "cell_type": "markdown",
      "metadata": {
        "id": "LFD_Rh1ttJkk",
        "colab_type": "text"
      },
      "source": [
        "#### Grouping the Age Column by the median based on; Pclass, Salutation and Sex.\n"
      ]
    },
    {
      "cell_type": "code",
      "metadata": {
        "colab_type": "code",
        "id": "DYO74c0DbGwM",
        "trusted": true,
        "colab": {
          "base_uri": "https://localhost:8080/",
          "height": 503
        },
        "outputId": "587f4e84-2877-4bcb-c8b0-afb5122c9f3d"
      },
      "source": [
        "x = joint.groupby(['Pclass','Salutation_simp','Sex']).median()\n",
        "grouped_median_train = x['Age'].reset_index()\n",
        "grouped_median_train"
      ],
      "execution_count": 23,
      "outputs": [
        {
          "output_type": "execute_result",
          "data": {
            "text/html": [
              "<div>\n",
              "<style scoped>\n",
              "    .dataframe tbody tr th:only-of-type {\n",
              "        vertical-align: middle;\n",
              "    }\n",
              "\n",
              "    .dataframe tbody tr th {\n",
              "        vertical-align: top;\n",
              "    }\n",
              "\n",
              "    .dataframe thead th {\n",
              "        text-align: right;\n",
              "    }\n",
              "</style>\n",
              "<table border=\"1\" class=\"dataframe\">\n",
              "  <thead>\n",
              "    <tr style=\"text-align: right;\">\n",
              "      <th></th>\n",
              "      <th>Pclass</th>\n",
              "      <th>Salutation_simp</th>\n",
              "      <th>Sex</th>\n",
              "      <th>Age</th>\n",
              "    </tr>\n",
              "  </thead>\n",
              "  <tbody>\n",
              "    <tr>\n",
              "      <th>0</th>\n",
              "      <td>1</td>\n",
              "      <td>Master</td>\n",
              "      <td>male</td>\n",
              "      <td>6.0</td>\n",
              "    </tr>\n",
              "    <tr>\n",
              "      <th>1</th>\n",
              "      <td>1</td>\n",
              "      <td>Military</td>\n",
              "      <td>male</td>\n",
              "      <td>54.5</td>\n",
              "    </tr>\n",
              "    <tr>\n",
              "      <th>2</th>\n",
              "      <td>1</td>\n",
              "      <td>Miss</td>\n",
              "      <td>female</td>\n",
              "      <td>30.0</td>\n",
              "    </tr>\n",
              "    <tr>\n",
              "      <th>3</th>\n",
              "      <td>1</td>\n",
              "      <td>Mr</td>\n",
              "      <td>female</td>\n",
              "      <td>49.0</td>\n",
              "    </tr>\n",
              "    <tr>\n",
              "      <th>4</th>\n",
              "      <td>1</td>\n",
              "      <td>Mr</td>\n",
              "      <td>male</td>\n",
              "      <td>42.0</td>\n",
              "    </tr>\n",
              "    <tr>\n",
              "      <th>5</th>\n",
              "      <td>1</td>\n",
              "      <td>Mrs</td>\n",
              "      <td>female</td>\n",
              "      <td>45.0</td>\n",
              "    </tr>\n",
              "    <tr>\n",
              "      <th>6</th>\n",
              "      <td>2</td>\n",
              "      <td>Master</td>\n",
              "      <td>male</td>\n",
              "      <td>2.0</td>\n",
              "    </tr>\n",
              "    <tr>\n",
              "      <th>7</th>\n",
              "      <td>2</td>\n",
              "      <td>Military</td>\n",
              "      <td>female</td>\n",
              "      <td>28.0</td>\n",
              "    </tr>\n",
              "    <tr>\n",
              "      <th>8</th>\n",
              "      <td>2</td>\n",
              "      <td>Miss</td>\n",
              "      <td>female</td>\n",
              "      <td>20.0</td>\n",
              "    </tr>\n",
              "    <tr>\n",
              "      <th>9</th>\n",
              "      <td>2</td>\n",
              "      <td>Mr</td>\n",
              "      <td>male</td>\n",
              "      <td>30.0</td>\n",
              "    </tr>\n",
              "    <tr>\n",
              "      <th>10</th>\n",
              "      <td>2</td>\n",
              "      <td>Mrs</td>\n",
              "      <td>female</td>\n",
              "      <td>30.5</td>\n",
              "    </tr>\n",
              "    <tr>\n",
              "      <th>11</th>\n",
              "      <td>3</td>\n",
              "      <td>Master</td>\n",
              "      <td>male</td>\n",
              "      <td>6.0</td>\n",
              "    </tr>\n",
              "    <tr>\n",
              "      <th>12</th>\n",
              "      <td>3</td>\n",
              "      <td>Military</td>\n",
              "      <td>female</td>\n",
              "      <td>NaN</td>\n",
              "    </tr>\n",
              "    <tr>\n",
              "      <th>13</th>\n",
              "      <td>3</td>\n",
              "      <td>Miss</td>\n",
              "      <td>female</td>\n",
              "      <td>18.0</td>\n",
              "    </tr>\n",
              "    <tr>\n",
              "      <th>14</th>\n",
              "      <td>3</td>\n",
              "      <td>Mr</td>\n",
              "      <td>male</td>\n",
              "      <td>26.0</td>\n",
              "    </tr>\n",
              "    <tr>\n",
              "      <th>15</th>\n",
              "      <td>3</td>\n",
              "      <td>Mrs</td>\n",
              "      <td>female</td>\n",
              "      <td>31.0</td>\n",
              "    </tr>\n",
              "  </tbody>\n",
              "</table>\n",
              "</div>"
            ],
            "text/plain": [
              "    Pclass Salutation_simp     Sex   Age\n",
              "0        1          Master    male   6.0\n",
              "1        1        Military    male  54.5\n",
              "2        1            Miss  female  30.0\n",
              "3        1              Mr  female  49.0\n",
              "4        1              Mr    male  42.0\n",
              "5        1             Mrs  female  45.0\n",
              "6        2          Master    male   2.0\n",
              "7        2        Military  female  28.0\n",
              "8        2            Miss  female  20.0\n",
              "9        2              Mr    male  30.0\n",
              "10       2             Mrs  female  30.5\n",
              "11       3          Master    male   6.0\n",
              "12       3        Military  female   NaN\n",
              "13       3            Miss  female  18.0\n",
              "14       3              Mr    male  26.0\n",
              "15       3             Mrs  female  31.0"
            ]
          },
          "metadata": {
            "tags": []
          },
          "execution_count": 23
        }
      ]
    },
    {
      "cell_type": "markdown",
      "metadata": {
        "id": "uQB-4CP_tJku",
        "colab_type": "text"
      },
      "source": [
        "### Filling the Missing Age Column with the corresponding median value from the following grouping; Pclass, Salutation and Sex.\n",
        "#### i.e.\n",
        "#### If the passenger is a 'Male', has a 'Military' salutation, and has a Pclass of '1', it fills the missing Age cell with '54.5'\n",
        "\n",
        "### I got this tip from:\n",
        "[ahmedbesbes](https://github.com/ahmedbesbes/How-to-score-0.8134-in-Titanic-Kaggle-Challenge/blob/master/article_1.ipynb)"
      ]
    },
    {
      "cell_type": "code",
      "metadata": {
        "colab_type": "code",
        "id": "kOD5_3RZYPQD",
        "trusted": true,
        "colab": {}
      },
      "source": [
        "def fill_age(row):\n",
        "    condition = (\n",
        "        (grouped_median_train['Sex'] == row['Sex']) & \n",
        "        (grouped_median_train['Salutation_simp'] == row['Salutation_simp']) & \n",
        "        (grouped_median_train['Pclass'] == row['Pclass'])\n",
        "    ) \n",
        "    return grouped_median_train[condition]['Age'].values[0]\n",
        "\n",
        "\n",
        "def process_age():\n",
        "    global joint\n",
        "    joint['Age'] = joint.apply(lambda row: fill_age(row) if np.isnan(row['Age']) else row['Age'], axis=1)\n",
        "    return joint\n",
        "\n",
        "joint = process_age()"
      ],
      "execution_count": 24,
      "outputs": []
    },
    {
      "cell_type": "code",
      "metadata": {
        "colab_type": "code",
        "id": "WM25vSwojaU8",
        "trusted": true,
        "colab": {
          "base_uri": "https://localhost:8080/",
          "height": 320
        },
        "outputId": "8103467c-47c6-4dc0-dba4-029cb0e97ca3"
      },
      "source": [
        "joint.isnull().sum()"
      ],
      "execution_count": 25,
      "outputs": [
        {
          "output_type": "execute_result",
          "data": {
            "text/plain": [
              "PassengerId              0\n",
              "Survived               418\n",
              "Pclass                   0\n",
              "Name                     0\n",
              "Sex                      0\n",
              "Age                      1\n",
              "SibSp                    0\n",
              "Parch                    0\n",
              "Ticket                   0\n",
              "Fare                     1\n",
              "Cabin                    0\n",
              "Embarked                 0\n",
              "Total_Number_Family      0\n",
              "Famsize                  0\n",
              "Salutation               0\n",
              "Salutation_simp          0\n",
              "dtype: int64"
            ]
          },
          "metadata": {
            "tags": []
          },
          "execution_count": 25
        }
      ]
    },
    {
      "cell_type": "markdown",
      "metadata": {
        "id": "ykwqwe420GFL",
        "colab_type": "text"
      },
      "source": [
        "#### Grouping the Fare by the Pclass to find the suitable median for the missing value"
      ]
    },
    {
      "cell_type": "code",
      "metadata": {
        "trusted": true,
        "id": "AATpD6qntJlc",
        "colab_type": "code",
        "colab": {
          "base_uri": "https://localhost:8080/",
          "height": 105
        },
        "outputId": "12b0001a-53da-4909-af7e-7df4c8f15215"
      },
      "source": [
        "print(joint['Fare'].groupby(joint['Pclass']).median())\n",
        "joint['Fare'].fillna(( joint['Fare'].groupby(joint['Pclass']).median() )[3], inplace=True)"
      ],
      "execution_count": 26,
      "outputs": [
        {
          "output_type": "stream",
          "text": [
            "Pclass\n",
            "1    60.0000\n",
            "2    15.0458\n",
            "3     8.0500\n",
            "Name: Fare, dtype: float64\n"
          ],
          "name": "stdout"
        }
      ]
    },
    {
      "cell_type": "markdown",
      "metadata": {
        "id": "Jzy2AdsytJll",
        "colab_type": "text"
      },
      "source": [
        "#### Grouping the Age by the Pclass to find the suitable median for the missing value"
      ]
    },
    {
      "cell_type": "code",
      "metadata": {
        "colab_type": "code",
        "id": "uVfgpUjQvzPT",
        "trusted": true,
        "colab": {
          "base_uri": "https://localhost:8080/",
          "height": 105
        },
        "outputId": "37aa5ae0-0f8d-43e4-d71f-8db1ac2e9383"
      },
      "source": [
        "print(joint['Age'].groupby(joint['Pclass']).median())\n",
        "joint['Age'].fillna(joint['Age'].groupby(joint['Pclass']).median()[3], inplace=True)"
      ],
      "execution_count": 27,
      "outputs": [
        {
          "output_type": "stream",
          "text": [
            "Pclass\n",
            "1    42.0\n",
            "2    29.0\n",
            "3    26.0\n",
            "Name: Age, dtype: float64\n"
          ],
          "name": "stdout"
        }
      ]
    },
    {
      "cell_type": "markdown",
      "metadata": {
        "id": "2UQAUndQtJlx",
        "colab_type": "text"
      },
      "source": [
        "#### Seprating the Age into different groups; Adult, Teen etc..."
      ]
    },
    {
      "cell_type": "code",
      "metadata": {
        "trusted": true,
        "id": "4pkjXtmrtJlz",
        "colab_type": "code",
        "colab": {}
      },
      "source": [
        "joint.Age = round(joint.Age)\n",
        "\n",
        "Age_group = []\n",
        "\n",
        "for val in joint.Age:\n",
        "    if val in range(0,14):\n",
        "        Age_group.append(\"Child\")\n",
        "    elif val in range(14,19):\n",
        "        Age_group.append(\"Teen\")\n",
        "    elif val in range(19,30):\n",
        "        Age_group.append(\"Youth\")\n",
        "    elif val in range(30,70):\n",
        "        Age_group.append(\"Adult\")\n",
        "    else:\n",
        "        Age_group.append(\"Elder\")\n",
        "joint['Age_group'] = Age_group"
      ],
      "execution_count": 28,
      "outputs": []
    },
    {
      "cell_type": "markdown",
      "metadata": {
        "id": "okA7-ZgVtJl8",
        "colab_type": "text"
      },
      "source": [
        "#### Seprating the Fare into different groups; Expensive, Cheap etc..."
      ]
    },
    {
      "cell_type": "code",
      "metadata": {
        "trusted": true,
        "id": "mBguCk0GtJl_",
        "colab_type": "code",
        "colab": {}
      },
      "source": [
        "Fare_group = []\n",
        "\n",
        "for x in round(joint.Fare):\n",
        "    if x in range(0,51):\n",
        "        Fare_group.append('Cheap')\n",
        "    elif x in range(51,101):\n",
        "        Fare_group.append('Moderate')\n",
        "    else:\n",
        "        Fare_group.append('Expensive')\n",
        "joint['Fare_group'] = Fare_group"
      ],
      "execution_count": 29,
      "outputs": []
    },
    {
      "cell_type": "markdown",
      "metadata": {
        "id": "s5MK7lzz3eps",
        "colab_type": "text"
      },
      "source": [
        "#### Wealth Status\n",
        "\n"
      ]
    },
    {
      "cell_type": "code",
      "metadata": {
        "id": "bP9PI82L3eVt",
        "colab_type": "code",
        "colab": {}
      },
      "source": [
        "status = []\n",
        "for w,v in zip(joint['Pclass'], joint['Fare_group']):\n",
        "    if (w == 1) and (v == 'Expensive'):\n",
        "        status.append('Wealthy') \n",
        "    else:\n",
        "        status.append('Not Wealthy')\n",
        "\n",
        "joint['status'] = status"
      ],
      "execution_count": 30,
      "outputs": []
    },
    {
      "cell_type": "markdown",
      "metadata": {
        "id": "Q7UrCoG53yFW",
        "colab_type": "text"
      },
      "source": [
        "#### Wealth Status + Gender"
      ]
    },
    {
      "cell_type": "code",
      "metadata": {
        "id": "Ni7Vfc4D3eO5",
        "colab_type": "code",
        "colab": {}
      },
      "source": [
        "gend_stat = []\n",
        "\n",
        "for w,v in zip(joint['Sex'], joint['status']):\n",
        "    gend_stat.append(f'{w}_{v}')\n",
        "joint['gend_stat'] = gend_stat"
      ],
      "execution_count": 31,
      "outputs": []
    },
    {
      "cell_type": "markdown",
      "metadata": {
        "id": "RiiD94Q-8BKE",
        "colab_type": "text"
      },
      "source": [
        "#### Family Status"
      ]
    },
    {
      "cell_type": "code",
      "metadata": {
        "id": "jg7ZHotc7_dj",
        "colab_type": "code",
        "colab": {}
      },
      "source": [
        "fam_stat = []\n",
        "for val in joint.Total_Number_Family:\n",
        "    if val == 1:\n",
        "        fam_stat.append('Single')\n",
        "    elif val == 2:\n",
        "        fam_stat.append('Married')\n",
        "    else:\n",
        "        fam_stat.append('Married_w_kids')\n",
        "joint['fam_stat'] = fam_stat"
      ],
      "execution_count": 32,
      "outputs": []
    },
    {
      "cell_type": "markdown",
      "metadata": {
        "id": "K3EEQeoOtJmI",
        "colab_type": "text"
      },
      "source": [
        "#### Dropping irrelevant features"
      ]
    },
    {
      "cell_type": "code",
      "metadata": {
        "colab_type": "code",
        "id": "kysh-HAd5P3O",
        "trusted": true,
        "colab": {}
      },
      "source": [
        "final_drop = ['PassengerId','Name','Ticket','Salutation', 'Cabin']\n",
        "joint.drop(final_drop,1, inplace=True)"
      ],
      "execution_count": 33,
      "outputs": []
    },
    {
      "cell_type": "code",
      "metadata": {
        "colab_type": "code",
        "id": "bPHnFOdDyGIN",
        "colab": {}
      },
      "source": [
        "### Splitting the Joint data back to Train and Test Data"
      ],
      "execution_count": 34,
      "outputs": []
    },
    {
      "cell_type": "code",
      "metadata": {
        "trusted": true,
        "id": "EfbZlgj7tJmg",
        "colab_type": "code",
        "colab": {}
      },
      "source": [
        "Train = joint[:891]\n",
        "Test = joint[-418:]"
      ],
      "execution_count": 35,
      "outputs": []
    },
    {
      "cell_type": "code",
      "metadata": {
        "trusted": true,
        "id": "yzP3yASHtJms",
        "colab_type": "code",
        "colab": {
          "base_uri": "https://localhost:8080/",
          "height": 292
        },
        "outputId": "4d62f866-808d-4635-d920-f90ba3fbe36b"
      },
      "source": [
        "Train.head(5)"
      ],
      "execution_count": 36,
      "outputs": [
        {
          "output_type": "execute_result",
          "data": {
            "text/html": [
              "<div>\n",
              "<style scoped>\n",
              "    .dataframe tbody tr th:only-of-type {\n",
              "        vertical-align: middle;\n",
              "    }\n",
              "\n",
              "    .dataframe tbody tr th {\n",
              "        vertical-align: top;\n",
              "    }\n",
              "\n",
              "    .dataframe thead th {\n",
              "        text-align: right;\n",
              "    }\n",
              "</style>\n",
              "<table border=\"1\" class=\"dataframe\">\n",
              "  <thead>\n",
              "    <tr style=\"text-align: right;\">\n",
              "      <th></th>\n",
              "      <th>Survived</th>\n",
              "      <th>Pclass</th>\n",
              "      <th>Sex</th>\n",
              "      <th>Age</th>\n",
              "      <th>SibSp</th>\n",
              "      <th>Parch</th>\n",
              "      <th>Fare</th>\n",
              "      <th>Embarked</th>\n",
              "      <th>Total_Number_Family</th>\n",
              "      <th>Famsize</th>\n",
              "      <th>Salutation_simp</th>\n",
              "      <th>Age_group</th>\n",
              "      <th>Fare_group</th>\n",
              "      <th>status</th>\n",
              "      <th>gend_stat</th>\n",
              "      <th>fam_stat</th>\n",
              "    </tr>\n",
              "  </thead>\n",
              "  <tbody>\n",
              "    <tr>\n",
              "      <th>0</th>\n",
              "      <td>0.0</td>\n",
              "      <td>3</td>\n",
              "      <td>male</td>\n",
              "      <td>22.0</td>\n",
              "      <td>1</td>\n",
              "      <td>0</td>\n",
              "      <td>7.2500</td>\n",
              "      <td>S</td>\n",
              "      <td>2</td>\n",
              "      <td>Small_Family</td>\n",
              "      <td>Mr</td>\n",
              "      <td>Youth</td>\n",
              "      <td>Cheap</td>\n",
              "      <td>Not Wealthy</td>\n",
              "      <td>male_Not Wealthy</td>\n",
              "      <td>Married</td>\n",
              "    </tr>\n",
              "    <tr>\n",
              "      <th>1</th>\n",
              "      <td>1.0</td>\n",
              "      <td>1</td>\n",
              "      <td>female</td>\n",
              "      <td>38.0</td>\n",
              "      <td>1</td>\n",
              "      <td>0</td>\n",
              "      <td>71.2833</td>\n",
              "      <td>C</td>\n",
              "      <td>2</td>\n",
              "      <td>Small_Family</td>\n",
              "      <td>Mrs</td>\n",
              "      <td>Adult</td>\n",
              "      <td>Moderate</td>\n",
              "      <td>Not Wealthy</td>\n",
              "      <td>female_Not Wealthy</td>\n",
              "      <td>Married</td>\n",
              "    </tr>\n",
              "    <tr>\n",
              "      <th>2</th>\n",
              "      <td>1.0</td>\n",
              "      <td>3</td>\n",
              "      <td>female</td>\n",
              "      <td>26.0</td>\n",
              "      <td>0</td>\n",
              "      <td>0</td>\n",
              "      <td>7.9250</td>\n",
              "      <td>S</td>\n",
              "      <td>1</td>\n",
              "      <td>Alone</td>\n",
              "      <td>Miss</td>\n",
              "      <td>Youth</td>\n",
              "      <td>Cheap</td>\n",
              "      <td>Not Wealthy</td>\n",
              "      <td>female_Not Wealthy</td>\n",
              "      <td>Single</td>\n",
              "    </tr>\n",
              "    <tr>\n",
              "      <th>3</th>\n",
              "      <td>1.0</td>\n",
              "      <td>1</td>\n",
              "      <td>female</td>\n",
              "      <td>35.0</td>\n",
              "      <td>1</td>\n",
              "      <td>0</td>\n",
              "      <td>53.1000</td>\n",
              "      <td>S</td>\n",
              "      <td>2</td>\n",
              "      <td>Small_Family</td>\n",
              "      <td>Mrs</td>\n",
              "      <td>Adult</td>\n",
              "      <td>Moderate</td>\n",
              "      <td>Not Wealthy</td>\n",
              "      <td>female_Not Wealthy</td>\n",
              "      <td>Married</td>\n",
              "    </tr>\n",
              "    <tr>\n",
              "      <th>4</th>\n",
              "      <td>0.0</td>\n",
              "      <td>3</td>\n",
              "      <td>male</td>\n",
              "      <td>35.0</td>\n",
              "      <td>0</td>\n",
              "      <td>0</td>\n",
              "      <td>8.0500</td>\n",
              "      <td>S</td>\n",
              "      <td>1</td>\n",
              "      <td>Alone</td>\n",
              "      <td>Mr</td>\n",
              "      <td>Adult</td>\n",
              "      <td>Cheap</td>\n",
              "      <td>Not Wealthy</td>\n",
              "      <td>male_Not Wealthy</td>\n",
              "      <td>Single</td>\n",
              "    </tr>\n",
              "  </tbody>\n",
              "</table>\n",
              "</div>"
            ],
            "text/plain": [
              "   Survived  Pclass     Sex  ...       status           gend_stat  fam_stat\n",
              "0       0.0       3    male  ...  Not Wealthy    male_Not Wealthy   Married\n",
              "1       1.0       1  female  ...  Not Wealthy  female_Not Wealthy   Married\n",
              "2       1.0       3  female  ...  Not Wealthy  female_Not Wealthy    Single\n",
              "3       1.0       1  female  ...  Not Wealthy  female_Not Wealthy   Married\n",
              "4       0.0       3    male  ...  Not Wealthy    male_Not Wealthy    Single\n",
              "\n",
              "[5 rows x 16 columns]"
            ]
          },
          "metadata": {
            "tags": []
          },
          "execution_count": 36
        }
      ]
    },
    {
      "cell_type": "markdown",
      "metadata": {
        "id": "alFpKKj9tJm1",
        "colab_type": "text"
      },
      "source": [
        "### More Visualization..."
      ]
    },
    {
      "cell_type": "markdown",
      "metadata": {
        "id": "03u36PCvtJm3",
        "colab_type": "text"
      },
      "source": [
        "#### Family Size and Total Family"
      ]
    },
    {
      "cell_type": "code",
      "metadata": {
        "trusted": true,
        "id": "6gLLVEu0tJm4",
        "colab_type": "code",
        "colab": {
          "base_uri": "https://localhost:8080/",
          "height": 369
        },
        "outputId": "53c4cfea-80bc-4f12-a8a4-535ddf67e4ff"
      },
      "source": [
        "# pd.DataFrame(Train.groupby('Total_Number_Family').Survived.value_counts())\n",
        "\n",
        "fig, ax = plt.subplots(ncols=2, figsize=(10,5))\n",
        "sns.countplot(Train.Total_Number_Family, hue=train_file.Survived, ax=ax[0])\n",
        "sns.countplot(Train.Famsize, hue=train_file.Survived, ax=ax[1])\n",
        "fig.tight_layout()\n",
        "\n",
        "#Once again we see that Families of (2-4) members had a higher Survival rate"
      ],
      "execution_count": 37,
      "outputs": [
        {
          "output_type": "display_data",
          "data": {
            "image/png": "[encoded data removed]",
            "text/plain": [
              "<Figure size 720x360 with 2 Axes>"
            ]
          },
          "metadata": {
            "tags": [],
            "needs_background": "light"
          }
        }
      ]
    },
    {
      "cell_type": "markdown",
      "metadata": {
        "id": "3PfKLDAftJnE",
        "colab_type": "text"
      },
      "source": [
        "#### Cabin"
      ]
    },
    {
      "cell_type": "code",
      "metadata": {
        "trusted": true,
        "id": "-SLrOKHdtJnH",
        "colab_type": "code",
        "colab": {}
      },
      "source": [
        "# plt.figure(figsize=(10,7))\n",
        "# sns.countplot(Train.Cabin, hue=train_file.Survived)"
      ],
      "execution_count": 38,
      "outputs": []
    },
    {
      "cell_type": "markdown",
      "metadata": {
        "id": "M4EB8LmUtJne",
        "colab_type": "text"
      },
      "source": [
        "#### From the chart above, passengers from Cabin GFTADCB make a a very little fraction, therefore:"
      ]
    },
    {
      "cell_type": "code",
      "metadata": {
        "trusted": true,
        "id": "6t3Ob6G3tJng",
        "colab_type": "code",
        "colab": {}
      },
      "source": [
        "# Cabin_ = []\n",
        "# for val in joint.Cabin:\n",
        "#     if val in ['G', 'F', 'T', 'A', 'D','C', 'B',]:\n",
        "#         Cabin_.append('Irr')\n",
        "#     else:\n",
        "#         Cabin_.append(val)\n",
        "# joint.Cabin = Cabin_"
      ],
      "execution_count": 39,
      "outputs": []
    },
    {
      "cell_type": "markdown",
      "metadata": {
        "id": "Eii6HrhQtJnt",
        "colab_type": "text"
      },
      "source": [
        "#### Age"
      ]
    },
    {
      "cell_type": "code",
      "metadata": {
        "trusted": true,
        "id": "opL8DFvHtJn8",
        "colab_type": "code",
        "colab": {
          "base_uri": "https://localhost:8080/",
          "height": 351
        },
        "outputId": "1299deda-fa02-4389-858f-c13b74d00adf"
      },
      "source": [
        "fig, ax = plt.subplots(ncols=2, figsize=(10,5))\n",
        "sns.boxplot(Train.Age, ax=ax[0])\n",
        "sns.distplot(Train.Age, ax=ax[1])\n",
        "\n",
        "#The Age Feature is somewhat Normally Distributed and has very few outliers"
      ],
      "execution_count": 40,
      "outputs": [
        {
          "output_type": "execute_result",
          "data": {
            "text/plain": [
              "<matplotlib.axes._subplots.AxesSubplot at 0x7fcff4e71978>"
            ]
          },
          "metadata": {
            "tags": []
          },
          "execution_count": 40
        },
        {
          "output_type": "display_data",
          "data": {
            "image/png": "[encoded data removed]",
            "text/plain": [
              "<Figure size 720x360 with 2 Axes>"
            ]
          },
          "metadata": {
            "tags": [],
            "needs_background": "light"
          }
        }
      ]
    },
    {
      "cell_type": "markdown",
      "metadata": {
        "id": "BjKLj1FJtJoF",
        "colab_type": "text"
      },
      "source": [
        "#### Age Group"
      ]
    },
    {
      "cell_type": "code",
      "metadata": {
        "trusted": true,
        "id": "YJoD-n6JtJoH",
        "colab_type": "code",
        "colab": {
          "base_uri": "https://localhost:8080/",
          "height": 460
        },
        "outputId": "4e2d7224-271b-45df-aa89-4b862552ad6e"
      },
      "source": [
        "plt.figure(figsize=(10,7))\n",
        "sns.countplot(Train.Age_group, hue=train_file.Survived)"
      ],
      "execution_count": 41,
      "outputs": [
        {
          "output_type": "execute_result",
          "data": {
            "text/plain": [
              "<matplotlib.axes._subplots.AxesSubplot at 0x7fcff6269a20>"
            ]
          },
          "metadata": {
            "tags": []
          },
          "execution_count": 41
        },
        {
          "output_type": "display_data",
          "data": {
            "image/png": "[encoded data removed]",
            "text/plain": [
              "<Figure size 720x504 with 1 Axes>"
            ]
          },
          "metadata": {
            "tags": [],
            "needs_background": "light"
          }
        }
      ]
    },
    {
      "cell_type": "markdown",
      "metadata": {
        "id": "Hdhg-fg8tJoP",
        "colab_type": "text"
      },
      "source": [
        "#### Salutation "
      ]
    },
    {
      "cell_type": "code",
      "metadata": {
        "trusted": true,
        "id": "K822yDXntJoQ",
        "colab_type": "code",
        "colab": {
          "base_uri": "https://localhost:8080/",
          "height": 460
        },
        "outputId": "bb525434-d694-4ce3-c2ea-dca5bef27c31"
      },
      "source": [
        "plt.figure(figsize=(10,7))\n",
        "sns.countplot(Train.Salutation_simp, hue=train_file.Survived)"
      ],
      "execution_count": 42,
      "outputs": [
        {
          "output_type": "execute_result",
          "data": {
            "text/plain": [
              "<matplotlib.axes._subplots.AxesSubplot at 0x7fcff628a588>"
            ]
          },
          "metadata": {
            "tags": []
          },
          "execution_count": 42
        },
        {
          "output_type": "display_data",
          "data": {
            "image/png": "[encoded data removed]",
            "text/plain": [
              "<Figure size 720x504 with 1 Axes>"
            ]
          },
          "metadata": {
            "tags": [],
            "needs_background": "light"
          }
        }
      ]
    },
    {
      "cell_type": "markdown",
      "metadata": {
        "id": "ojkFHDxutJoX",
        "colab_type": "text"
      },
      "source": [
        "#### Fare Group"
      ]
    },
    {
      "cell_type": "code",
      "metadata": {
        "trusted": true,
        "id": "i9ke_FYWtJoZ",
        "colab_type": "code",
        "colab": {
          "base_uri": "https://localhost:8080/",
          "height": 460
        },
        "outputId": "49b625d3-189d-4e0c-90f2-232b19ec3466"
      },
      "source": [
        "plt.figure(figsize=(10,7))\n",
        "sns.countplot(Train.Fare_group, hue=train_file.Survived)"
      ],
      "execution_count": 43,
      "outputs": [
        {
          "output_type": "execute_result",
          "data": {
            "text/plain": [
              "<matplotlib.axes._subplots.AxesSubplot at 0x7fcff625ac88>"
            ]
          },
          "metadata": {
            "tags": []
          },
          "execution_count": 43
        },
        {
          "output_type": "display_data",
          "data": {
            "image/png": "[encoded data removed]",
            "text/plain": [
              "<Figure size 720x504 with 1 Axes>"
            ]
          },
          "metadata": {
            "tags": [],
            "needs_background": "light"
          }
        }
      ]
    },
    {
      "cell_type": "markdown",
      "metadata": {
        "id": "ftG74tV-48fC",
        "colab_type": "text"
      },
      "source": [
        "#### Wealth Status"
      ]
    },
    {
      "cell_type": "code",
      "metadata": {
        "id": "7i19L2sj4vxc",
        "colab_type": "code",
        "colab": {
          "base_uri": "https://localhost:8080/",
          "height": 459
        },
        "outputId": "47800262-b361-4d9e-b336-c3f0243c4221"
      },
      "source": [
        "plt.figure(figsize=(10,7))\n",
        "sns.countplot(Train.status, hue=train_file.Survived)"
      ],
      "execution_count": 44,
      "outputs": [
        {
          "output_type": "execute_result",
          "data": {
            "text/plain": [
              "<matplotlib.axes._subplots.AxesSubplot at 0x7fcff4e5bbe0>"
            ]
          },
          "metadata": {
            "tags": []
          },
          "execution_count": 44
        },
        {
          "output_type": "display_data",
          "data": {
            "image/png": "[encoded data removed]",
            "text/plain": [
              "<Figure size 720x504 with 1 Axes>"
            ]
          },
          "metadata": {
            "tags": [],
            "needs_background": "light"
          }
        }
      ]
    },
    {
      "cell_type": "markdown",
      "metadata": {
        "id": "YtYCaCiN5HkA",
        "colab_type": "text"
      },
      "source": [
        "#### Gender + Wealth Status"
      ]
    },
    {
      "cell_type": "code",
      "metadata": {
        "id": "PG1lpgHV5Dyu",
        "colab_type": "code",
        "colab": {
          "base_uri": "https://localhost:8080/",
          "height": 461
        },
        "outputId": "b15b3ebf-0e9f-4728-d3cb-12ab7e9305b8"
      },
      "source": [
        "plt.figure(figsize=(10,7))\n",
        "sns.countplot(Train.gend_stat, hue=train_file.Survived)"
      ],
      "execution_count": 45,
      "outputs": [
        {
          "output_type": "execute_result",
          "data": {
            "text/plain": [
              "<matplotlib.axes._subplots.AxesSubplot at 0x7fcff627cb70>"
            ]
          },
          "metadata": {
            "tags": []
          },
          "execution_count": 45
        },
        {
          "output_type": "display_data",
          "data": {
            "image/png": "[encoded data removed]",
            "text/plain": [
              "<Figure size 720x504 with 1 Axes>"
            ]
          },
          "metadata": {
            "tags": [],
            "needs_background": "light"
          }
        }
      ]
    },
    {
      "cell_type": "markdown",
      "metadata": {
        "id": "XCB5EkMX83oZ",
        "colab_type": "text"
      },
      "source": [
        "#### Family Status\n"
      ]
    },
    {
      "cell_type": "code",
      "metadata": {
        "id": "vp7xSeDd83CM",
        "colab_type": "code",
        "colab": {
          "base_uri": "https://localhost:8080/",
          "height": 461
        },
        "outputId": "2aee13b0-1054-4fb8-c0e6-403cf79241bb"
      },
      "source": [
        "plt.figure(figsize=(10,7))\n",
        "sns.countplot(Train.fam_stat, hue=train_file.Survived)"
      ],
      "execution_count": 46,
      "outputs": [
        {
          "output_type": "execute_result",
          "data": {
            "text/plain": [
              "<matplotlib.axes._subplots.AxesSubplot at 0x7fcff91daac8>"
            ]
          },
          "metadata": {
            "tags": []
          },
          "execution_count": 46
        },
        {
          "output_type": "display_data",
          "data": {
            "image/png": "[encoded data removed]",
            "text/plain": [
              "<Figure size 720x504 with 1 Axes>"
            ]
          },
          "metadata": {
            "tags": [],
            "needs_background": "light"
          }
        }
      ]
    },
    {
      "cell_type": "code",
      "metadata": {
        "trusted": true,
        "id": "pv8u0c56tJog",
        "colab_type": "code",
        "colab": {
          "base_uri": "https://localhost:8080/",
          "height": 292
        },
        "outputId": "711a0e60-41eb-4763-b4ba-b00b3700cd99"
      },
      "source": [
        "joint.head()"
      ],
      "execution_count": 47,
      "outputs": [
        {
          "output_type": "execute_result",
          "data": {
            "text/html": [
              "<div>\n",
              "<style scoped>\n",
              "    .dataframe tbody tr th:only-of-type {\n",
              "        vertical-align: middle;\n",
              "    }\n",
              "\n",
              "    .dataframe tbody tr th {\n",
              "        vertical-align: top;\n",
              "    }\n",
              "\n",
              "    .dataframe thead th {\n",
              "        text-align: right;\n",
              "    }\n",
              "</style>\n",
              "<table border=\"1\" class=\"dataframe\">\n",
              "  <thead>\n",
              "    <tr style=\"text-align: right;\">\n",
              "      <th></th>\n",
              "      <th>Survived</th>\n",
              "      <th>Pclass</th>\n",
              "      <th>Sex</th>\n",
              "      <th>Age</th>\n",
              "      <th>SibSp</th>\n",
              "      <th>Parch</th>\n",
              "      <th>Fare</th>\n",
              "      <th>Embarked</th>\n",
              "      <th>Total_Number_Family</th>\n",
              "      <th>Famsize</th>\n",
              "      <th>Salutation_simp</th>\n",
              "      <th>Age_group</th>\n",
              "      <th>Fare_group</th>\n",
              "      <th>status</th>\n",
              "      <th>gend_stat</th>\n",
              "      <th>fam_stat</th>\n",
              "    </tr>\n",
              "  </thead>\n",
              "  <tbody>\n",
              "    <tr>\n",
              "      <th>0</th>\n",
              "      <td>0.0</td>\n",
              "      <td>3</td>\n",
              "      <td>male</td>\n",
              "      <td>22.0</td>\n",
              "      <td>1</td>\n",
              "      <td>0</td>\n",
              "      <td>7.2500</td>\n",
              "      <td>S</td>\n",
              "      <td>2</td>\n",
              "      <td>Small_Family</td>\n",
              "      <td>Mr</td>\n",
              "      <td>Youth</td>\n",
              "      <td>Cheap</td>\n",
              "      <td>Not Wealthy</td>\n",
              "      <td>male_Not Wealthy</td>\n",
              "      <td>Married</td>\n",
              "    </tr>\n",
              "    <tr>\n",
              "      <th>1</th>\n",
              "      <td>1.0</td>\n",
              "      <td>1</td>\n",
              "      <td>female</td>\n",
              "      <td>38.0</td>\n",
              "      <td>1</td>\n",
              "      <td>0</td>\n",
              "      <td>71.2833</td>\n",
              "      <td>C</td>\n",
              "      <td>2</td>\n",
              "      <td>Small_Family</td>\n",
              "      <td>Mrs</td>\n",
              "      <td>Adult</td>\n",
              "      <td>Moderate</td>\n",
              "      <td>Not Wealthy</td>\n",
              "      <td>female_Not Wealthy</td>\n",
              "      <td>Married</td>\n",
              "    </tr>\n",
              "    <tr>\n",
              "      <th>2</th>\n",
              "      <td>1.0</td>\n",
              "      <td>3</td>\n",
              "      <td>female</td>\n",
              "      <td>26.0</td>\n",
              "      <td>0</td>\n",
              "      <td>0</td>\n",
              "      <td>7.9250</td>\n",
              "      <td>S</td>\n",
              "      <td>1</td>\n",
              "      <td>Alone</td>\n",
              "      <td>Miss</td>\n",
              "      <td>Youth</td>\n",
              "      <td>Cheap</td>\n",
              "      <td>Not Wealthy</td>\n",
              "      <td>female_Not Wealthy</td>\n",
              "      <td>Single</td>\n",
              "    </tr>\n",
              "    <tr>\n",
              "      <th>3</th>\n",
              "      <td>1.0</td>\n",
              "      <td>1</td>\n",
              "      <td>female</td>\n",
              "      <td>35.0</td>\n",
              "      <td>1</td>\n",
              "      <td>0</td>\n",
              "      <td>53.1000</td>\n",
              "      <td>S</td>\n",
              "      <td>2</td>\n",
              "      <td>Small_Family</td>\n",
              "      <td>Mrs</td>\n",
              "      <td>Adult</td>\n",
              "      <td>Moderate</td>\n",
              "      <td>Not Wealthy</td>\n",
              "      <td>female_Not Wealthy</td>\n",
              "      <td>Married</td>\n",
              "    </tr>\n",
              "    <tr>\n",
              "      <th>4</th>\n",
              "      <td>0.0</td>\n",
              "      <td>3</td>\n",
              "      <td>male</td>\n",
              "      <td>35.0</td>\n",
              "      <td>0</td>\n",
              "      <td>0</td>\n",
              "      <td>8.0500</td>\n",
              "      <td>S</td>\n",
              "      <td>1</td>\n",
              "      <td>Alone</td>\n",
              "      <td>Mr</td>\n",
              "      <td>Adult</td>\n",
              "      <td>Cheap</td>\n",
              "      <td>Not Wealthy</td>\n",
              "      <td>male_Not Wealthy</td>\n",
              "      <td>Single</td>\n",
              "    </tr>\n",
              "  </tbody>\n",
              "</table>\n",
              "</div>"
            ],
            "text/plain": [
              "   Survived  Pclass     Sex  ...       status           gend_stat  fam_stat\n",
              "0       0.0       3    male  ...  Not Wealthy    male_Not Wealthy   Married\n",
              "1       1.0       1  female  ...  Not Wealthy  female_Not Wealthy   Married\n",
              "2       1.0       3  female  ...  Not Wealthy  female_Not Wealthy    Single\n",
              "3       1.0       1  female  ...  Not Wealthy  female_Not Wealthy   Married\n",
              "4       0.0       3    male  ...  Not Wealthy    male_Not Wealthy    Single\n",
              "\n",
              "[5 rows x 16 columns]"
            ]
          },
          "metadata": {
            "tags": []
          },
          "execution_count": 47
        }
      ]
    },
    {
      "cell_type": "code",
      "metadata": {
        "colab_type": "code",
        "id": "qFN8Ivme1E6t",
        "trusted": true,
        "colab": {}
      },
      "source": [
        "# lenc_data = ['Sex']#, 'Cabin', 'Embarked', 'Alone_Famsize', 'Salutation']\n",
        "# for data in lenc_data:\n",
        "#     joint[data] = LabelEncoder().fit_transform(joint[data])"
      ],
      "execution_count": 48,
      "outputs": []
    },
    {
      "cell_type": "code",
      "metadata": {
        "colab_type": "code",
        "id": "BjbM47IXykfS",
        "colab": {}
      },
      "source": [
        "### Dummy Encoding the Categorical variables"
      ],
      "execution_count": 49,
      "outputs": []
    },
    {
      "cell_type": "markdown",
      "metadata": {
        "id": "Hn2gj7zK_Bmn",
        "colab_type": "text"
      },
      "source": [
        "### Dummy Encoding the Categorical variables"
      ]
    },
    {
      "cell_type": "code",
      "metadata": {
        "colab_type": "code",
        "id": "0du2WhLWykbZ",
        "trusted": true,
        "colab": {
          "base_uri": "https://localhost:8080/",
          "height": 225
        },
        "outputId": "b723d83b-2d28-40f0-a804-0b0a3aed7355"
      },
      "source": [
        "joint = pd.get_dummies(joint)\n",
        "joint.head()"
      ],
      "execution_count": 50,
      "outputs": [
        {
          "output_type": "execute_result",
          "data": {
            "text/html": [
              "<div>\n",
              "<style scoped>\n",
              "    .dataframe tbody tr th:only-of-type {\n",
              "        vertical-align: middle;\n",
              "    }\n",
              "\n",
              "    .dataframe tbody tr th {\n",
              "        vertical-align: top;\n",
              "    }\n",
              "\n",
              "    .dataframe thead th {\n",
              "        text-align: right;\n",
              "    }\n",
              "</style>\n",
              "<table border=\"1\" class=\"dataframe\">\n",
              "  <thead>\n",
              "    <tr style=\"text-align: right;\">\n",
              "      <th></th>\n",
              "      <th>Survived</th>\n",
              "      <th>Pclass</th>\n",
              "      <th>Age</th>\n",
              "      <th>SibSp</th>\n",
              "      <th>Parch</th>\n",
              "      <th>Fare</th>\n",
              "      <th>Total_Number_Family</th>\n",
              "      <th>Sex_female</th>\n",
              "      <th>Sex_male</th>\n",
              "      <th>Embarked_C</th>\n",
              "      <th>Embarked_Q</th>\n",
              "      <th>Embarked_S</th>\n",
              "      <th>Famsize_Alone</th>\n",
              "      <th>Famsize_Large_Family</th>\n",
              "      <th>Famsize_Small_Family</th>\n",
              "      <th>Salutation_simp_Master</th>\n",
              "      <th>Salutation_simp_Military</th>\n",
              "      <th>Salutation_simp_Miss</th>\n",
              "      <th>Salutation_simp_Mr</th>\n",
              "      <th>Salutation_simp_Mrs</th>\n",
              "      <th>Age_group_Adult</th>\n",
              "      <th>Age_group_Child</th>\n",
              "      <th>Age_group_Elder</th>\n",
              "      <th>Age_group_Teen</th>\n",
              "      <th>Age_group_Youth</th>\n",
              "      <th>Fare_group_Cheap</th>\n",
              "      <th>Fare_group_Expensive</th>\n",
              "      <th>Fare_group_Moderate</th>\n",
              "      <th>status_Not Wealthy</th>\n",
              "      <th>status_Wealthy</th>\n",
              "      <th>gend_stat_female_Not Wealthy</th>\n",
              "      <th>gend_stat_female_Wealthy</th>\n",
              "      <th>gend_stat_male_Not Wealthy</th>\n",
              "      <th>gend_stat_male_Wealthy</th>\n",
              "      <th>fam_stat_Married</th>\n",
              "      <th>fam_stat_Married_w_kids</th>\n",
              "      <th>fam_stat_Single</th>\n",
              "    </tr>\n",
              "  </thead>\n",
              "  <tbody>\n",
              "    <tr>\n",
              "      <th>0</th>\n",
              "      <td>0.0</td>\n",
              "      <td>3</td>\n",
              "      <td>22.0</td>\n",
              "      <td>1</td>\n",
              "      <td>0</td>\n",
              "      <td>7.2500</td>\n",
              "      <td>2</td>\n",
              "      <td>0</td>\n",
              "      <td>1</td>\n",
              "      <td>0</td>\n",
              "      <td>0</td>\n",
              "      <td>1</td>\n",
              "      <td>0</td>\n",
              "      <td>0</td>\n",
              "      <td>1</td>\n",
              "      <td>0</td>\n",
              "      <td>0</td>\n",
              "      <td>0</td>\n",
              "      <td>1</td>\n",
              "      <td>0</td>\n",
              "      <td>0</td>\n",
              "      <td>0</td>\n",
              "      <td>0</td>\n",
              "      <td>0</td>\n",
              "      <td>1</td>\n",
              "      <td>1</td>\n",
              "      <td>0</td>\n",
              "      <td>0</td>\n",
              "      <td>1</td>\n",
              "      <td>0</td>\n",
              "      <td>0</td>\n",
              "      <td>0</td>\n",
              "      <td>1</td>\n",
              "      <td>0</td>\n",
              "      <td>1</td>\n",
              "      <td>0</td>\n",
              "      <td>0</td>\n",
              "    </tr>\n",
              "    <tr>\n",
              "      <th>1</th>\n",
              "      <td>1.0</td>\n",
              "      <td>1</td>\n",
              "      <td>38.0</td>\n",
              "      <td>1</td>\n",
              "      <td>0</td>\n",
              "      <td>71.2833</td>\n",
              "      <td>2</td>\n",
              "      <td>1</td>\n",
              "      <td>0</td>\n",
              "      <td>1</td>\n",
              "      <td>0</td>\n",
              "      <td>0</td>\n",
              "      <td>0</td>\n",
              "      <td>0</td>\n",
              "      <td>1</td>\n",
              "      <td>0</td>\n",
              "      <td>0</td>\n",
              "      <td>0</td>\n",
              "      <td>0</td>\n",
              "      <td>1</td>\n",
              "      <td>1</td>\n",
              "      <td>0</td>\n",
              "      <td>0</td>\n",
              "      <td>0</td>\n",
              "      <td>0</td>\n",
              "      <td>0</td>\n",
              "      <td>0</td>\n",
              "      <td>1</td>\n",
              "      <td>1</td>\n",
              "      <td>0</td>\n",
              "      <td>1</td>\n",
              "      <td>0</td>\n",
              "      <td>0</td>\n",
              "      <td>0</td>\n",
              "      <td>1</td>\n",
              "      <td>0</td>\n",
              "      <td>0</td>\n",
              "    </tr>\n",
              "    <tr>\n",
              "      <th>2</th>\n",
              "      <td>1.0</td>\n",
              "      <td>3</td>\n",
              "      <td>26.0</td>\n",
              "      <td>0</td>\n",
              "      <td>0</td>\n",
              "      <td>7.9250</td>\n",
              "      <td>1</td>\n",
              "      <td>1</td>\n",
              "      <td>0</td>\n",
              "      <td>0</td>\n",
              "      <td>0</td>\n",
              "      <td>1</td>\n",
              "      <td>1</td>\n",
              "      <td>0</td>\n",
              "      <td>0</td>\n",
              "      <td>0</td>\n",
              "      <td>0</td>\n",
              "      <td>1</td>\n",
              "      <td>0</td>\n",
              "      <td>0</td>\n",
              "      <td>0</td>\n",
              "      <td>0</td>\n",
              "      <td>0</td>\n",
              "      <td>0</td>\n",
              "      <td>1</td>\n",
              "      <td>1</td>\n",
              "      <td>0</td>\n",
              "      <td>0</td>\n",
              "      <td>1</td>\n",
              "      <td>0</td>\n",
              "      <td>1</td>\n",
              "      <td>0</td>\n",
              "      <td>0</td>\n",
              "      <td>0</td>\n",
              "      <td>0</td>\n",
              "      <td>0</td>\n",
              "      <td>1</td>\n",
              "    </tr>\n",
              "    <tr>\n",
              "      <th>3</th>\n",
              "      <td>1.0</td>\n",
              "      <td>1</td>\n",
              "      <td>35.0</td>\n",
              "      <td>1</td>\n",
              "      <td>0</td>\n",
              "      <td>53.1000</td>\n",
              "      <td>2</td>\n",
              "      <td>1</td>\n",
              "      <td>0</td>\n",
              "      <td>0</td>\n",
              "      <td>0</td>\n",
              "      <td>1</td>\n",
              "      <td>0</td>\n",
              "      <td>0</td>\n",
              "      <td>1</td>\n",
              "      <td>0</td>\n",
              "      <td>0</td>\n",
              "      <td>0</td>\n",
              "      <td>0</td>\n",
              "      <td>1</td>\n",
              "      <td>1</td>\n",
              "      <td>0</td>\n",
              "      <td>0</td>\n",
              "      <td>0</td>\n",
              "      <td>0</td>\n",
              "      <td>0</td>\n",
              "      <td>0</td>\n",
              "      <td>1</td>\n",
              "      <td>1</td>\n",
              "      <td>0</td>\n",
              "      <td>1</td>\n",
              "      <td>0</td>\n",
              "      <td>0</td>\n",
              "      <td>0</td>\n",
              "      <td>1</td>\n",
              "      <td>0</td>\n",
              "      <td>0</td>\n",
              "    </tr>\n",
              "    <tr>\n",
              "      <th>4</th>\n",
              "      <td>0.0</td>\n",
              "      <td>3</td>\n",
              "      <td>35.0</td>\n",
              "      <td>0</td>\n",
              "      <td>0</td>\n",
              "      <td>8.0500</td>\n",
              "      <td>1</td>\n",
              "      <td>0</td>\n",
              "      <td>1</td>\n",
              "      <td>0</td>\n",
              "      <td>0</td>\n",
              "      <td>1</td>\n",
              "      <td>1</td>\n",
              "      <td>0</td>\n",
              "      <td>0</td>\n",
              "      <td>0</td>\n",
              "      <td>0</td>\n",
              "      <td>0</td>\n",
              "      <td>1</td>\n",
              "      <td>0</td>\n",
              "      <td>1</td>\n",
              "      <td>0</td>\n",
              "      <td>0</td>\n",
              "      <td>0</td>\n",
              "      <td>0</td>\n",
              "      <td>1</td>\n",
              "      <td>0</td>\n",
              "      <td>0</td>\n",
              "      <td>1</td>\n",
              "      <td>0</td>\n",
              "      <td>0</td>\n",
              "      <td>0</td>\n",
              "      <td>1</td>\n",
              "      <td>0</td>\n",
              "      <td>0</td>\n",
              "      <td>0</td>\n",
              "      <td>1</td>\n",
              "    </tr>\n",
              "  </tbody>\n",
              "</table>\n",
              "</div>"
            ],
            "text/plain": [
              "   Survived  Pclass  ...  fam_stat_Married_w_kids  fam_stat_Single\n",
              "0       0.0       3  ...                        0                0\n",
              "1       1.0       1  ...                        0                0\n",
              "2       1.0       3  ...                        0                1\n",
              "3       1.0       1  ...                        0                0\n",
              "4       0.0       3  ...                        0                1\n",
              "\n",
              "[5 rows x 37 columns]"
            ]
          },
          "metadata": {
            "tags": []
          },
          "execution_count": 50
        }
      ]
    },
    {
      "cell_type": "markdown",
      "metadata": {
        "id": "y7Hy7rVVtJpk",
        "colab_type": "text"
      },
      "source": [
        "#### Scaling the Continous features"
      ]
    },
    {
      "cell_type": "code",
      "metadata": {
        "colab_type": "code",
        "id": "vkewREqr7FfK",
        "trusted": true,
        "colab": {}
      },
      "source": [
        "scale_it = ['Age', 'Fare', 'Total_Number_Family', 'SibSp', 'Parch']\n",
        "joint[scale_it] = MinMaxScaler().fit_transform(joint[scale_it])\n",
        "joint.drop(['Survived'],1, inplace=True)\n",
        "# joint = MinMaxScaler().fit_transform(joint)"
      ],
      "execution_count": 51,
      "outputs": []
    },
    {
      "cell_type": "code",
      "metadata": {
        "colab_type": "code",
        "id": "6MvMZlHjPlzJ",
        "trusted": true,
        "colab": {}
      },
      "source": [
        "# # final_drop = ['SibSp', 'Parch']\n",
        "# last_vals = ['Cabin_G','Embarked_S','Alone_Famsize_Alone','Salutation_Honorary','Cabin_T']\n",
        "# joint.drop(last_vals,1,inplace=True)"
      ],
      "execution_count": 52,
      "outputs": []
    },
    {
      "cell_type": "markdown",
      "metadata": {
        "colab_type": "text",
        "id": "o6UWbOBy46I1"
      },
      "source": [
        "### Training and Validation Data"
      ]
    },
    {
      "cell_type": "code",
      "metadata": {
        "colab_type": "code",
        "id": "WBe9CZxG33uT",
        "trusted": true,
        "colab": {}
      },
      "source": [
        "Train = joint[:891]\n",
        "Test = joint[-418:]\n",
        "x_train, x_test, y_train, y_test = tts(Train, y, test_size= 0.15, random_state=0)"
      ],
      "execution_count": 54,
      "outputs": []
    },
    {
      "cell_type": "code",
      "metadata": {
        "colab_type": "code",
        "id": "3-NmAOrfQb3m",
        "trusted": true,
        "colab": {
          "base_uri": "https://localhost:8080/",
          "height": 225
        },
        "outputId": "6cd0f09b-ed45-4dfc-bb00-bf6927382e97"
      },
      "source": [
        "Train.head()"
      ],
      "execution_count": 55,
      "outputs": [
        {
          "output_type": "execute_result",
          "data": {
            "text/html": [
              "<div>\n",
              "<style scoped>\n",
              "    .dataframe tbody tr th:only-of-type {\n",
              "        vertical-align: middle;\n",
              "    }\n",
              "\n",
              "    .dataframe tbody tr th {\n",
              "        vertical-align: top;\n",
              "    }\n",
              "\n",
              "    .dataframe thead th {\n",
              "        text-align: right;\n",
              "    }\n",
              "</style>\n",
              "<table border=\"1\" class=\"dataframe\">\n",
              "  <thead>\n",
              "    <tr style=\"text-align: right;\">\n",
              "      <th></th>\n",
              "      <th>Pclass</th>\n",
              "      <th>Age</th>\n",
              "      <th>SibSp</th>\n",
              "      <th>Parch</th>\n",
              "      <th>Fare</th>\n",
              "      <th>Total_Number_Family</th>\n",
              "      <th>Sex_female</th>\n",
              "      <th>Sex_male</th>\n",
              "      <th>Embarked_C</th>\n",
              "      <th>Embarked_Q</th>\n",
              "      <th>Embarked_S</th>\n",
              "      <th>Famsize_Alone</th>\n",
              "      <th>Famsize_Large_Family</th>\n",
              "      <th>Famsize_Small_Family</th>\n",
              "      <th>Salutation_simp_Master</th>\n",
              "      <th>Salutation_simp_Military</th>\n",
              "      <th>Salutation_simp_Miss</th>\n",
              "      <th>Salutation_simp_Mr</th>\n",
              "      <th>Salutation_simp_Mrs</th>\n",
              "      <th>Age_group_Adult</th>\n",
              "      <th>Age_group_Child</th>\n",
              "      <th>Age_group_Elder</th>\n",
              "      <th>Age_group_Teen</th>\n",
              "      <th>Age_group_Youth</th>\n",
              "      <th>Fare_group_Cheap</th>\n",
              "      <th>Fare_group_Expensive</th>\n",
              "      <th>Fare_group_Moderate</th>\n",
              "      <th>status_Not Wealthy</th>\n",
              "      <th>status_Wealthy</th>\n",
              "      <th>gend_stat_female_Not Wealthy</th>\n",
              "      <th>gend_stat_female_Wealthy</th>\n",
              "      <th>gend_stat_male_Not Wealthy</th>\n",
              "      <th>gend_stat_male_Wealthy</th>\n",
              "      <th>fam_stat_Married</th>\n",
              "      <th>fam_stat_Married_w_kids</th>\n",
              "      <th>fam_stat_Single</th>\n",
              "    </tr>\n",
              "  </thead>\n",
              "  <tbody>\n",
              "    <tr>\n",
              "      <th>0</th>\n",
              "      <td>3</td>\n",
              "      <td>0.2750</td>\n",
              "      <td>0.125</td>\n",
              "      <td>0.0</td>\n",
              "      <td>0.014151</td>\n",
              "      <td>0.1</td>\n",
              "      <td>0</td>\n",
              "      <td>1</td>\n",
              "      <td>0</td>\n",
              "      <td>0</td>\n",
              "      <td>1</td>\n",
              "      <td>0</td>\n",
              "      <td>0</td>\n",
              "      <td>1</td>\n",
              "      <td>0</td>\n",
              "      <td>0</td>\n",
              "      <td>0</td>\n",
              "      <td>1</td>\n",
              "      <td>0</td>\n",
              "      <td>0</td>\n",
              "      <td>0</td>\n",
              "      <td>0</td>\n",
              "      <td>0</td>\n",
              "      <td>1</td>\n",
              "      <td>1</td>\n",
              "      <td>0</td>\n",
              "      <td>0</td>\n",
              "      <td>1</td>\n",
              "      <td>0</td>\n",
              "      <td>0</td>\n",
              "      <td>0</td>\n",
              "      <td>1</td>\n",
              "      <td>0</td>\n",
              "      <td>1</td>\n",
              "      <td>0</td>\n",
              "      <td>0</td>\n",
              "    </tr>\n",
              "    <tr>\n",
              "      <th>1</th>\n",
              "      <td>1</td>\n",
              "      <td>0.4750</td>\n",
              "      <td>0.125</td>\n",
              "      <td>0.0</td>\n",
              "      <td>0.139136</td>\n",
              "      <td>0.1</td>\n",
              "      <td>1</td>\n",
              "      <td>0</td>\n",
              "      <td>1</td>\n",
              "      <td>0</td>\n",
              "      <td>0</td>\n",
              "      <td>0</td>\n",
              "      <td>0</td>\n",
              "      <td>1</td>\n",
              "      <td>0</td>\n",
              "      <td>0</td>\n",
              "      <td>0</td>\n",
              "      <td>0</td>\n",
              "      <td>1</td>\n",
              "      <td>1</td>\n",
              "      <td>0</td>\n",
              "      <td>0</td>\n",
              "      <td>0</td>\n",
              "      <td>0</td>\n",
              "      <td>0</td>\n",
              "      <td>0</td>\n",
              "      <td>1</td>\n",
              "      <td>1</td>\n",
              "      <td>0</td>\n",
              "      <td>1</td>\n",
              "      <td>0</td>\n",
              "      <td>0</td>\n",
              "      <td>0</td>\n",
              "      <td>1</td>\n",
              "      <td>0</td>\n",
              "      <td>0</td>\n",
              "    </tr>\n",
              "    <tr>\n",
              "      <th>2</th>\n",
              "      <td>3</td>\n",
              "      <td>0.3250</td>\n",
              "      <td>0.000</td>\n",
              "      <td>0.0</td>\n",
              "      <td>0.015469</td>\n",
              "      <td>0.0</td>\n",
              "      <td>1</td>\n",
              "      <td>0</td>\n",
              "      <td>0</td>\n",
              "      <td>0</td>\n",
              "      <td>1</td>\n",
              "      <td>1</td>\n",
              "      <td>0</td>\n",
              "      <td>0</td>\n",
              "      <td>0</td>\n",
              "      <td>0</td>\n",
              "      <td>1</td>\n",
              "      <td>0</td>\n",
              "      <td>0</td>\n",
              "      <td>0</td>\n",
              "      <td>0</td>\n",
              "      <td>0</td>\n",
              "      <td>0</td>\n",
              "      <td>1</td>\n",
              "      <td>1</td>\n",
              "      <td>0</td>\n",
              "      <td>0</td>\n",
              "      <td>1</td>\n",
              "      <td>0</td>\n",
              "      <td>1</td>\n",
              "      <td>0</td>\n",
              "      <td>0</td>\n",
              "      <td>0</td>\n",
              "      <td>0</td>\n",
              "      <td>0</td>\n",
              "      <td>1</td>\n",
              "    </tr>\n",
              "    <tr>\n",
              "      <th>3</th>\n",
              "      <td>1</td>\n",
              "      <td>0.4375</td>\n",
              "      <td>0.125</td>\n",
              "      <td>0.0</td>\n",
              "      <td>0.103644</td>\n",
              "      <td>0.1</td>\n",
              "      <td>1</td>\n",
              "      <td>0</td>\n",
              "      <td>0</td>\n",
              "      <td>0</td>\n",
              "      <td>1</td>\n",
              "      <td>0</td>\n",
              "      <td>0</td>\n",
              "      <td>1</td>\n",
              "      <td>0</td>\n",
              "      <td>0</td>\n",
              "      <td>0</td>\n",
              "      <td>0</td>\n",
              "      <td>1</td>\n",
              "      <td>1</td>\n",
              "      <td>0</td>\n",
              "      <td>0</td>\n",
              "      <td>0</td>\n",
              "      <td>0</td>\n",
              "      <td>0</td>\n",
              "      <td>0</td>\n",
              "      <td>1</td>\n",
              "      <td>1</td>\n",
              "      <td>0</td>\n",
              "      <td>1</td>\n",
              "      <td>0</td>\n",
              "      <td>0</td>\n",
              "      <td>0</td>\n",
              "      <td>1</td>\n",
              "      <td>0</td>\n",
              "      <td>0</td>\n",
              "    </tr>\n",
              "    <tr>\n",
              "      <th>4</th>\n",
              "      <td>3</td>\n",
              "      <td>0.4375</td>\n",
              "      <td>0.000</td>\n",
              "      <td>0.0</td>\n",
              "      <td>0.015713</td>\n",
              "      <td>0.0</td>\n",
              "      <td>0</td>\n",
              "      <td>1</td>\n",
              "      <td>0</td>\n",
              "      <td>0</td>\n",
              "      <td>1</td>\n",
              "      <td>1</td>\n",
              "      <td>0</td>\n",
              "      <td>0</td>\n",
              "      <td>0</td>\n",
              "      <td>0</td>\n",
              "      <td>0</td>\n",
              "      <td>1</td>\n",
              "      <td>0</td>\n",
              "      <td>1</td>\n",
              "      <td>0</td>\n",
              "      <td>0</td>\n",
              "      <td>0</td>\n",
              "      <td>0</td>\n",
              "      <td>1</td>\n",
              "      <td>0</td>\n",
              "      <td>0</td>\n",
              "      <td>1</td>\n",
              "      <td>0</td>\n",
              "      <td>0</td>\n",
              "      <td>0</td>\n",
              "      <td>1</td>\n",
              "      <td>0</td>\n",
              "      <td>0</td>\n",
              "      <td>0</td>\n",
              "      <td>1</td>\n",
              "    </tr>\n",
              "  </tbody>\n",
              "</table>\n",
              "</div>"
            ],
            "text/plain": [
              "   Pclass     Age  ...  fam_stat_Married_w_kids  fam_stat_Single\n",
              "0       3  0.2750  ...                        0                0\n",
              "1       1  0.4750  ...                        0                0\n",
              "2       3  0.3250  ...                        0                1\n",
              "3       1  0.4375  ...                        0                0\n",
              "4       3  0.4375  ...                        0                1\n",
              "\n",
              "[5 rows x 36 columns]"
            ]
          },
          "metadata": {
            "tags": []
          },
          "execution_count": 55
        }
      ]
    },
    {
      "cell_type": "code",
      "metadata": {
        "colab_type": "code",
        "id": "ECEagDWP3vlu",
        "colab": {}
      },
      "source": [
        "## Creating The Models"
      ],
      "execution_count": 56,
      "outputs": []
    },
    {
      "cell_type": "markdown",
      "metadata": {
        "id": "OgrhQz06tJqq",
        "colab_type": "text"
      },
      "source": [
        "#### Simple Random Forest Algorithm"
      ]
    },
    {
      "cell_type": "code",
      "metadata": {
        "colab_type": "code",
        "id": "QgeAL33q5DGn",
        "trusted": true,
        "colab": {
          "base_uri": "https://localhost:8080/",
          "height": 123
        },
        "outputId": "9bf33b89-2217-4948-c376-c80706b8ee70"
      },
      "source": [
        "for n in [50,100,150,200,250,300]:\n",
        "    rfc = RandomForestClassifier(n_jobs=-1, max_depth=5, n_estimators=n)\n",
        "    rfc.fit(x_train,y_train)\n",
        "    pred = rfc.predict(x_test)\n",
        "    print(f\"{n}: {accuracy_score(y_test,pred)}\")"
      ],
      "execution_count": 57,
      "outputs": [
        {
          "output_type": "stream",
          "text": [
            "50: 0.8283582089552238\n",
            "100: 0.8283582089552238\n",
            "150: 0.8283582089552238\n",
            "200: 0.8283582089552238\n",
            "250: 0.8283582089552238\n",
            "300: 0.8283582089552238\n"
          ],
          "name": "stdout"
        }
      ]
    },
    {
      "cell_type": "code",
      "metadata": {
        "colab_type": "code",
        "id": "e8RbLC6t0cNY",
        "trusted": true,
        "colab": {
          "base_uri": "https://localhost:8080/",
          "height": 52
        },
        "outputId": "d4559fe2-0b13-4b42-b401-1befc66c344c"
      },
      "source": [
        "confusion_matrix(y_test, pred)"
      ],
      "execution_count": 58,
      "outputs": [
        {
          "output_type": "execute_result",
          "data": {
            "text/plain": [
              "array([[71,  8],\n",
              "       [15, 40]])"
            ]
          },
          "metadata": {
            "tags": []
          },
          "execution_count": 58
        }
      ]
    },
    {
      "cell_type": "code",
      "metadata": {
        "colab_type": "code",
        "id": "lZMk4hep6E37",
        "trusted": true,
        "colab": {
          "base_uri": "https://localhost:8080/",
          "height": 609
        },
        "outputId": "f2e8e621-cec9-49cd-aaad-8e1523ad1770"
      },
      "source": [
        "#Checking importance of each feature\n",
        "%matplotlib inline\n",
        "features = pd.DataFrame()\n",
        "features['feature'] = Train.columns\n",
        "features['importance'] = rfc.feature_importances_\n",
        "features.sort_values(by=['importance'], ascending=True, inplace=True)\n",
        "features.set_index('feature', inplace=True)\n",
        "\n",
        "features.plot(kind='barh', figsize=(10,10))"
      ],
      "execution_count": 59,
      "outputs": [
        {
          "output_type": "execute_result",
          "data": {
            "text/plain": [
              "<matplotlib.axes._subplots.AxesSubplot at 0x7fcff25dd518>"
            ]
          },
          "metadata": {
            "tags": []
          },
          "execution_count": 59
        },
        {
          "output_type": "display_data",
          "data": {
            "image/png": "[encoded data removed]",
            "text/plain": [
              "<Figure size 720x720 with 1 Axes>"
            ]
          },
          "metadata": {
            "tags": [],
            "needs_background": "light"
          }
        }
      ]
    },
    {
      "cell_type": "code",
      "metadata": {
        "colab_type": "code",
        "id": "E3-W6gF9Xfy7",
        "trusted": true,
        "colab": {}
      },
      "source": [
        "# from sklearn.feature_selection import SelectFromModel\n",
        "\n",
        "# model = SelectFromModel(rfc, prefit=True)\n",
        "# Train = model.transform(Train)\n",
        "# Test = model.transform(Test)\n",
        "# print(Train.shape)\n",
        "\n",
        "# x_train, x_test, y_train, y_test = tts(Train, y, test_size= 0.15, random_state=0)"
      ],
      "execution_count": 60,
      "outputs": []
    },
    {
      "cell_type": "code",
      "metadata": {
        "colab_type": "code",
        "id": "sJR7QKmpXgLZ",
        "colab": {}
      },
      "source": [
        ""
      ],
      "execution_count": 60,
      "outputs": []
    },
    {
      "cell_type": "markdown",
      "metadata": {
        "colab_type": "text",
        "id": "R4bhSXyG642n"
      },
      "source": [
        "### Random Forest Grid Search\n",
        "\n"
      ]
    },
    {
      "cell_type": "code",
      "metadata": {
        "colab_type": "code",
        "id": "kgn-5LHU62t7",
        "trusted": true,
        "colab": {}
      },
      "source": [
        "from sklearn.model_selection import GridSearchCV,StratifiedKFold,cross_val_score\n",
        "\n",
        "kf = StratifiedKFold(n_splits=5)"
      ],
      "execution_count": 61,
      "outputs": []
    },
    {
      "cell_type": "code",
      "metadata": {
        "colab_type": "code",
        "id": "9GcyPofl7_ue",
        "trusted": true,
        "colab": {
          "base_uri": "https://localhost:8080/",
          "height": 445
        },
        "outputId": "bdb93c0f-6321-4418-c4b1-de959ae6e198"
      },
      "source": [
        "parameters = {\n",
        "    'n_estimators' : [10,50,100,150],\n",
        "    # 'n_jobs': '-1',\n",
        "    'max_features': ['auto', 'sqrt', 'log2'],\n",
        "    'max_depth': [2,4,6],\n",
        "    'criterion' :['gini', 'entropy'],\n",
        "                #  'min_samples_split': [2, 3, 10],\n",
        "                #  'min_samples_leaf': [1, 3, 10],\n",
        "                #  'bootstrap': [True, False],\n",
        "\n",
        "}\n",
        "\n",
        "rfc_gridcv = GridSearchCV(RandomForestClassifier(), param_grid=parameters, cv=kf, verbose=0)\n",
        "\n",
        "rfc_gridcv.fit(Train, y)"
      ],
      "execution_count": 62,
      "outputs": [
        {
          "output_type": "execute_result",
          "data": {
            "text/plain": [
              "GridSearchCV(cv=StratifiedKFold(n_splits=5, random_state=None, shuffle=False),\n",
              "             error_score=nan,\n",
              "             estimator=RandomForestClassifier(bootstrap=True, ccp_alpha=0.0,\n",
              "                                              class_weight=None,\n",
              "                                              criterion='gini', max_depth=None,\n",
              "                                              max_features='auto',\n",
              "                                              max_leaf_nodes=None,\n",
              "                                              max_samples=None,\n",
              "                                              min_impurity_decrease=0.0,\n",
              "                                              min_impurity_split=None,\n",
              "                                              min_samples_leaf=1,\n",
              "                                              min_samples_split=2,\n",
              "                                              min_weight_fraction_leaf=0.0,\n",
              "                                              n_estimators=100, n_jobs=None,\n",
              "                                              oob_score=False,\n",
              "                                              random_state=None, verbose=0,\n",
              "                                              warm_start=False),\n",
              "             iid='deprecated', n_jobs=None,\n",
              "             param_grid={'criterion': ['gini', 'entropy'],\n",
              "                         'max_depth': [2, 4, 6],\n",
              "                         'max_features': ['auto', 'sqrt', 'log2'],\n",
              "                         'n_estimators': [10, 50, 100, 150]},\n",
              "             pre_dispatch='2*n_jobs', refit=True, return_train_score=False,\n",
              "             scoring=None, verbose=0)"
            ]
          },
          "metadata": {
            "tags": []
          },
          "execution_count": 62
        }
      ]
    },
    {
      "cell_type": "code",
      "metadata": {
        "colab_type": "code",
        "id": "VXS0oKc8-iEO",
        "trusted": true,
        "colab": {
          "base_uri": "https://localhost:8080/",
          "height": 34
        },
        "outputId": "df33a986-81cd-4e76-f917-9977498d25bc"
      },
      "source": [
        "rfc_after_search = RandomForestClassifier(n_estimators = rfc_gridcv.best_params_['n_estimators'],\n",
        "                                          max_features=rfc_gridcv.best_params_['max_features'],\n",
        "                                          max_depth=rfc_gridcv.best_params_['max_depth'],\n",
        "                                        #   min_samples_leaf = rfc_gridcv.best_params_['min_samples_leaf'],\n",
        "                                        #   min_samples_split = rfc_gridcv.best_params_['min_samples_split'],\n",
        "                                        #   bootstrap= rfc_gridcv.best_params_['bootstrap'],\n",
        "                                          criterion= 'entropy' ,#rfc_gridcv.best_params_['criterion'], \n",
        "                                          verbose = 0)\n",
        "\n",
        "rfc_after_search.fit(x_train,y_train)\n",
        "\n",
        "rfc_after_search_pred = rfc_after_search.predict(x_test)\n",
        "\n",
        "print('Accuracy Score: ', accuracy_score(y_test, rfc_after_search_pred))"
      ],
      "execution_count": 63,
      "outputs": [
        {
          "output_type": "stream",
          "text": [
            "Accuracy Score:  0.8283582089552238\n"
          ],
          "name": "stdout"
        }
      ]
    },
    {
      "cell_type": "code",
      "metadata": {
        "colab_type": "code",
        "id": "DlcGimka0nc3",
        "trusted": true,
        "colab": {
          "base_uri": "https://localhost:8080/",
          "height": 52
        },
        "outputId": "c30b8a3c-405c-45a3-e4b3-6a0b36436f9c"
      },
      "source": [
        "confusion_matrix(y_test, rfc_after_search_pred)"
      ],
      "execution_count": 64,
      "outputs": [
        {
          "output_type": "execute_result",
          "data": {
            "text/plain": [
              "array([[71,  8],\n",
              "       [15, 40]])"
            ]
          },
          "metadata": {
            "tags": []
          },
          "execution_count": 64
        }
      ]
    },
    {
      "cell_type": "markdown",
      "metadata": {
        "colab_type": "text",
        "id": "VmvpZ8Sxjtqb"
      },
      "source": [
        "#### Random Forest Cross validation"
      ]
    },
    {
      "cell_type": "code",
      "metadata": {
        "colab_type": "code",
        "id": "2mG6ft2WjsyY",
        "trusted": true,
        "colab": {
          "base_uri": "https://localhost:8080/",
          "height": 52
        },
        "outputId": "399dee5f-9083-4a6f-f832-8d00f5c3878e"
      },
      "source": [
        "rfc_cvscore = cross_val_score(rfc_after_search,Train,y,scoring = 'accuracy',cv=kf)\n",
        "print(rfc_cvscore)\n",
        "print('Average CV: ',sum(rfc_cvscore)/5)"
      ],
      "execution_count": 65,
      "outputs": [
        {
          "output_type": "stream",
          "text": [
            "[0.84357542 0.8258427  0.8258427  0.79775281 0.85955056]\n",
            "Average CV:  0.8305128366078716\n"
          ],
          "name": "stdout"
        }
      ]
    },
    {
      "cell_type": "markdown",
      "metadata": {
        "colab_type": "text",
        "id": "Cm9MDRzxjlQl"
      },
      "source": [
        "### Adaboost Grid Search"
      ]
    },
    {
      "cell_type": "code",
      "metadata": {
        "colab_type": "code",
        "id": "9bC6uq14jkjY",
        "trusted": true,
        "colab": {
          "base_uri": "https://localhost:8080/",
          "height": 498
        },
        "outputId": "8c19ab1c-906e-4722-b76d-0c81cacac61f"
      },
      "source": [
        "n_estimators = [50,100,150,200]#,150,160, 170,175,180,185];\n",
        "learning_r = [0.1,1,0.01,0.5]\n",
        "\n",
        "ada_parameters = {'n_estimators':n_estimators,\n",
        "              'learning_rate':learning_r\n",
        "              \n",
        "        }\n",
        "ada_grid = GridSearchCV(AdaBoostClassifier(base_estimator= rfc_after_search, \n",
        "                                     ),\n",
        "                                 param_grid=ada_parameters,\n",
        "                                 cv=kf,\n",
        "                                 n_jobs = -1,\n",
        "                                 verbose=0\n",
        "                                 )\n",
        "ada_grid.fit(Train,y)"
      ],
      "execution_count": 66,
      "outputs": [
        {
          "output_type": "execute_result",
          "data": {
            "text/plain": [
              "GridSearchCV(cv=StratifiedKFold(n_splits=5, random_state=None, shuffle=False),\n",
              "             error_score=nan,\n",
              "             estimator=AdaBoostClassifier(algorithm='SAMME.R',\n",
              "                                          base_estimator=RandomForestClassifier(bootstrap=True,\n",
              "                                                                                ccp_alpha=0.0,\n",
              "                                                                                class_weight=None,\n",
              "                                                                                criterion='entropy',\n",
              "                                                                                max_depth=4,\n",
              "                                                                                max_features='sqrt',\n",
              "                                                                                max_leaf_nodes=None,\n",
              "                                                                                max_samples=None,\n",
              "                                                                                min_impurity_decrease=0.0,\n",
              "                                                                                min_impur...\n",
              "                                                                                min_weight_fraction_leaf=0.0,\n",
              "                                                                                n_estimators=100,\n",
              "                                                                                n_jobs=None,\n",
              "                                                                                oob_score=False,\n",
              "                                                                                random_state=None,\n",
              "                                                                                verbose=0,\n",
              "                                                                                warm_start=False),\n",
              "                                          learning_rate=1.0, n_estimators=50,\n",
              "                                          random_state=None),\n",
              "             iid='deprecated', n_jobs=-1,\n",
              "             param_grid={'learning_rate': [0.1, 1, 0.01, 0.5],\n",
              "                         'n_estimators': [50, 100, 150, 200]},\n",
              "             pre_dispatch='2*n_jobs', refit=True, return_train_score=False,\n",
              "             scoring=None, verbose=0)"
            ]
          },
          "metadata": {
            "tags": []
          },
          "execution_count": 66
        }
      ]
    },
    {
      "cell_type": "code",
      "metadata": {
        "colab_type": "code",
        "id": "R8o6Pyn5mzDC",
        "trusted": true,
        "colab": {
          "base_uri": "https://localhost:8080/",
          "height": 34
        },
        "outputId": "af8864ee-6e55-4ef6-8a16-64b29fb74a46"
      },
      "source": [
        "ada_after_grid = AdaBoostClassifier(algorithm='SAMME.R', \n",
        "                                    base_estimator= rfc_after_search, \n",
        "                                    n_estimators=ada_grid.best_params_['n_estimators'], \n",
        "                                    learning_rate=ada_grid.best_params_['learning_rate'])\n",
        "ada_after_grid.fit(x_train,y_train)\n",
        "ada_after_grid_pred = ada_after_grid.predict(x_test)\n",
        "accuracy_score(y_test, ada_after_grid_pred)"
      ],
      "execution_count": 67,
      "outputs": [
        {
          "output_type": "execute_result",
          "data": {
            "text/plain": [
              "0.8283582089552238"
            ]
          },
          "metadata": {
            "tags": []
          },
          "execution_count": 67
        }
      ]
    },
    {
      "cell_type": "code",
      "metadata": {
        "colab_type": "code",
        "id": "00DijgjFvyNt",
        "trusted": true,
        "colab": {
          "base_uri": "https://localhost:8080/",
          "height": 52
        },
        "outputId": "544e6b0b-131b-48b3-a7d1-f40fda38808d"
      },
      "source": [
        "confusion_matrix(y_test, ada_after_grid_pred)"
      ],
      "execution_count": 68,
      "outputs": [
        {
          "output_type": "execute_result",
          "data": {
            "text/plain": [
              "array([[71,  8],\n",
              "       [15, 40]])"
            ]
          },
          "metadata": {
            "tags": []
          },
          "execution_count": 68
        }
      ]
    },
    {
      "cell_type": "markdown",
      "metadata": {
        "colab_type": "text",
        "id": "JWp9zyj7vrMe"
      },
      "source": [
        "### Adaboost cross validation"
      ]
    },
    {
      "cell_type": "code",
      "metadata": {
        "colab_type": "code",
        "id": "I8omnr_JoDZO",
        "trusted": true,
        "colab": {
          "base_uri": "https://localhost:8080/",
          "height": 70
        },
        "outputId": "45b9818d-d3f6-4155-c548-8b3341aa962d"
      },
      "source": [
        "ada_score = cross_val_score(ada_after_grid,Train,y,scoring = 'accuracy',cv=kf)\n",
        "print(ada_score)\n",
        "print('Average CV: ',sum(ada_score)/5)"
      ],
      "execution_count": 69,
      "outputs": [
        {
          "output_type": "stream",
          "text": [
            "[0.83333333 0.87640449 0.7752809  0.87640449 0.84269663 0.80898876\n",
            " 0.83146067 0.79775281 0.86516854 0.85393258]\n",
            "Average CV:  0.8361423220973782\n"
          ],
          "name": "stdout"
        }
      ]
    },
    {
      "cell_type": "markdown",
      "metadata": {
        "colab_type": "text",
        "id": "yZGj7AiKvjca"
      },
      "source": [
        "### XGBoost Grid Search"
      ]
    },
    {
      "cell_type": "code",
      "metadata": {
        "colab_type": "code",
        "id": "0jEBDtRYviO9",
        "trusted": true,
        "colab": {
          "base_uri": "https://localhost:8080/",
          "height": 516
        },
        "outputId": "7b223b6f-92eb-472c-860b-7bab4d3a52f3"
      },
      "source": [
        "xgb_params = {\n",
        "        'n_estimators': [50,100, 150,200, 500],\n",
        "        'subsample': [0.6, 1.0],\n",
        "        'max_depth': [2,5,8],\n",
        "        'learning_rate': [0.1,0.01,0.02],\n",
        "        \"min_samples_split\": [2,5,10]\n",
        "        }\n",
        "\n",
        "xg_grid = GridSearchCV(XGBClassifier(), param_grid=xgb_params, cv = kf, n_jobs = -1, verbose=1)\n",
        "xg_grid.fit(Train,y)"
      ],
      "execution_count": 70,
      "outputs": [
        {
          "output_type": "stream",
          "text": [
            "Fitting 5 folds for each of 270 candidates, totalling 1350 fits\n"
          ],
          "name": "stdout"
        },
        {
          "output_type": "stream",
          "text": [
            "[Parallel(n_jobs=-1)]: Using backend LokyBackend with 2 concurrent workers.\n",
            "[Parallel(n_jobs=-1)]: Done  46 tasks      | elapsed:    6.2s\n",
            "[Parallel(n_jobs=-1)]: Done 196 tasks      | elapsed:   30.0s\n",
            "[Parallel(n_jobs=-1)]: Done 446 tasks      | elapsed:  1.7min\n",
            "[Parallel(n_jobs=-1)]: Done 796 tasks      | elapsed:  2.9min\n",
            "[Parallel(n_jobs=-1)]: Done 1246 tasks      | elapsed:  4.6min\n",
            "[Parallel(n_jobs=-1)]: Done 1350 out of 1350 | elapsed:  5.2min finished\n"
          ],
          "name": "stderr"
        },
        {
          "output_type": "execute_result",
          "data": {
            "text/plain": [
              "GridSearchCV(cv=StratifiedKFold(n_splits=5, random_state=None, shuffle=False),\n",
              "             error_score=nan,\n",
              "             estimator=XGBClassifier(base_score=0.5, booster='gbtree',\n",
              "                                     colsample_bylevel=1, colsample_bynode=1,\n",
              "                                     colsample_bytree=1, gamma=0,\n",
              "                                     learning_rate=0.1, max_delta_step=0,\n",
              "                                     max_depth=3, min_child_weight=1,\n",
              "                                     missing=None, n_estimators=100, n_jobs=1,\n",
              "                                     nthread=None, objective='binary:...\n",
              "                                     random_state=0, reg_alpha=0, reg_lambda=1,\n",
              "                                     scale_pos_weight=1, seed=None, silent=None,\n",
              "                                     subsample=1, verbosity=1),\n",
              "             iid='deprecated', n_jobs=-1,\n",
              "             param_grid={'learning_rate': [0.1, 0.01, 0.02],\n",
              "                         'max_depth': [2, 5, 8],\n",
              "                         'min_samples_split': [2, 5, 10],\n",
              "                         'n_estimators': [50, 100, 150, 200, 500],\n",
              "                         'subsample': [0.6, 1.0]},\n",
              "             pre_dispatch='2*n_jobs', refit=True, return_train_score=False,\n",
              "             scoring=None, verbose=1)"
            ]
          },
          "metadata": {
            "tags": []
          },
          "execution_count": 70
        }
      ]
    },
    {
      "cell_type": "code",
      "metadata": {
        "colab_type": "code",
        "id": "lGrHpkel49U9",
        "trusted": true,
        "colab": {
          "base_uri": "https://localhost:8080/",
          "height": 34
        },
        "outputId": "18d1f88a-f4fb-4191-b38f-1cc3d2ce37a1"
      },
      "source": [
        "xgb_after_cv = XGBClassifier(learning_rate = xg_grid.best_params_[\"learning_rate\"], \n",
        "                    max_depth = xg_grid.best_params_[\"max_depth\"],\n",
        "                    min_samples_split = xg_grid.best_params_[\"min_samples_split\"],\n",
        "                    n_estimators = xg_grid.best_params_[\"n_estimators\"],\n",
        "                    subsample = xg_grid.best_params_[\"subsample\"])\n",
        "xgb_after_cv.fit(x_train,y_train)\n",
        "xgb_after_cv_pred = xgb_after_cv.predict(x_test)\n",
        "accuracy_score(y_test, xgb_after_cv_pred)"
      ],
      "execution_count": 71,
      "outputs": [
        {
          "output_type": "execute_result",
          "data": {
            "text/plain": [
              "0.835820895522388"
            ]
          },
          "metadata": {
            "tags": []
          },
          "execution_count": 71
        }
      ]
    },
    {
      "cell_type": "code",
      "metadata": {
        "colab_type": "code",
        "id": "1mFUiyUi59D1",
        "trusted": true,
        "colab": {
          "base_uri": "https://localhost:8080/",
          "height": 52
        },
        "outputId": "186271ea-2f7e-401d-c49f-cb1cc06e3c0a"
      },
      "source": [
        "confusion_matrix(y_test, xgb_after_cv_pred)"
      ],
      "execution_count": 72,
      "outputs": [
        {
          "output_type": "execute_result",
          "data": {
            "text/plain": [
              "array([[74,  5],\n",
              "       [17, 38]])"
            ]
          },
          "metadata": {
            "tags": []
          },
          "execution_count": 72
        }
      ]
    },
    {
      "cell_type": "markdown",
      "metadata": {
        "colab_type": "text",
        "id": "EBAjpSHz6oIz"
      },
      "source": [
        "#### XGboost cross validation"
      ]
    },
    {
      "cell_type": "code",
      "metadata": {
        "colab_type": "code",
        "id": "2IsEbIiD6hH4",
        "trusted": true,
        "colab": {
          "base_uri": "https://localhost:8080/",
          "height": 34
        },
        "outputId": "378df720-0640-4f2d-fbf1-ea2a4cdd5f77"
      },
      "source": [
        "xg_cvscore = cross_val_score(xgb_after_cv,Train,y,scoring = 'accuracy',cv=kf)\n",
        "print('Average CV: ',sum(xg_cvscore)/5)"
      ],
      "execution_count": 73,
      "outputs": [
        {
          "output_type": "stream",
          "text": [
            "Average CV:  0.8451560549313358\n"
          ],
          "name": "stdout"
        }
      ]
    },
    {
      "cell_type": "markdown",
      "metadata": {
        "colab_type": "text",
        "id": "hVY3PwWz2Td5"
      },
      "source": [
        "### Bagging"
      ]
    },
    {
      "cell_type": "markdown",
      "metadata": {
        "id": "irNpzXoZIbWI",
        "colab_type": "text"
      },
      "source": [
        "#### Basic\n"
      ]
    },
    {
      "cell_type": "code",
      "metadata": {
        "colab_type": "code",
        "id": "bmhhuZBc2Z1B",
        "trusted": true,
        "colab": {
          "base_uri": "https://localhost:8080/",
          "height": 123
        },
        "outputId": "516a46c2-7b91-443e-c1e0-535578376850"
      },
      "source": [
        "for n in [10,20,50,100]:\n",
        "    bag = BaggingClassifier(RandomForestClassifier(), max_features=1.0, max_samples=80, n_estimators=n, n_jobs=-1, verbose=0)\n",
        "    bag.fit(x_train,y_train)\n",
        "    bag_pred = bag.predict(x_test)\n",
        "\n",
        "    print(n, accuracy_score(y_test, bag_pred))\n",
        "confusion_matrix(y_test, bag_pred)"
      ],
      "execution_count": 74,
      "outputs": [
        {
          "output_type": "stream",
          "text": [
            "10 0.8208955223880597\n",
            "20 0.8283582089552238\n",
            "50 0.835820895522388\n",
            "100 0.835820895522388\n"
          ],
          "name": "stdout"
        },
        {
          "output_type": "execute_result",
          "data": {
            "text/plain": [
              "array([[72,  7],\n",
              "       [15, 40]])"
            ]
          },
          "metadata": {
            "tags": []
          },
          "execution_count": 74
        }
      ]
    },
    {
      "cell_type": "markdown",
      "metadata": {
        "id": "vAJNj1B1IfGG",
        "colab_type": "text"
      },
      "source": [
        "#### Advanced"
      ]
    },
    {
      "cell_type": "code",
      "metadata": {
        "id": "Rl1fhASmtJtR",
        "colab_type": "code",
        "colab": {
          "base_uri": "https://localhost:8080/",
          "height": 498
        },
        "outputId": "36190602-46a4-4598-ce0c-5ea261c3ad54"
      },
      "source": [
        "param_grid = {\n",
        "    'max_features' : [1.0, 0.5],\n",
        "    'max_samples' : [0.1, 0.2, 0.5,0.8],\n",
        "    'base_estimator' : [RandomForestClassifier(), DecisionTreeClassifier()]\n",
        "}\n",
        "\n",
        "bag_search = GridSearchCV(BaggingClassifier(n_estimators=100),param_grid=param_grid, verbose=1, cv=kf)\n",
        "bag_search.fit(Train,y)"
      ],
      "execution_count": 75,
      "outputs": [
        {
          "output_type": "stream",
          "text": [
            "Fitting 5 folds for each of 16 candidates, totalling 80 fits\n"
          ],
          "name": "stdout"
        },
        {
          "output_type": "stream",
          "text": [
            "[Parallel(n_jobs=1)]: Using backend SequentialBackend with 1 concurrent workers.\n",
            "[Parallel(n_jobs=1)]: Done  80 out of  80 | elapsed: 11.7min finished\n"
          ],
          "name": "stderr"
        },
        {
          "output_type": "execute_result",
          "data": {
            "text/plain": [
              "GridSearchCV(cv=StratifiedKFold(n_splits=5, random_state=None, shuffle=False),\n",
              "             error_score=nan,\n",
              "             estimator=BaggingClassifier(base_estimator=None, bootstrap=True,\n",
              "                                         bootstrap_features=False,\n",
              "                                         max_features=1.0, max_samples=1.0,\n",
              "                                         n_estimators=100, n_jobs=None,\n",
              "                                         oob_score=False, random_state=None,\n",
              "                                         verbose=0, warm_start=False),\n",
              "             iid='deprecated', n_jobs=None,\n",
              "             param_grid={'base...\n",
              "                                                                   max_features=None,\n",
              "                                                                   max_leaf_nodes=None,\n",
              "                                                                   min_impurity_decrease=0.0,\n",
              "                                                                   min_impurity_split=None,\n",
              "                                                                   min_samples_leaf=1,\n",
              "                                                                   min_samples_split=2,\n",
              "                                                                   min_weight_fraction_leaf=0.0,\n",
              "                                                                   presort='deprecated',\n",
              "                                                                   random_state=None,\n",
              "                                                                   splitter='best')],\n",
              "                         'max_features': [1.0, 0.5],\n",
              "                         'max_samples': [0.1, 0.2, 0.5, 0.8]},\n",
              "             pre_dispatch='2*n_jobs', refit=True, return_train_score=False,\n",
              "             scoring=None, verbose=1)"
            ]
          },
          "metadata": {
            "tags": []
          },
          "execution_count": 75
        }
      ]
    },
    {
      "cell_type": "code",
      "metadata": {
        "id": "VsyZzP86UvNy",
        "colab_type": "code",
        "colab": {
          "base_uri": "https://localhost:8080/",
          "height": 195
        },
        "outputId": "7dcf5eaf-7ab7-40df-ac91-9a74a6dd87c6"
      },
      "source": [
        "bag_search.best_params_"
      ],
      "execution_count": 76,
      "outputs": [
        {
          "output_type": "execute_result",
          "data": {
            "text/plain": [
              "{'base_estimator': RandomForestClassifier(bootstrap=True, ccp_alpha=0.0, class_weight=None,\n",
              "                        criterion='gini', max_depth=None, max_features='auto',\n",
              "                        max_leaf_nodes=None, max_samples=None,\n",
              "                        min_impurity_decrease=0.0, min_impurity_split=None,\n",
              "                        min_samples_leaf=1, min_samples_split=2,\n",
              "                        min_weight_fraction_leaf=0.0, n_estimators=100,\n",
              "                        n_jobs=None, oob_score=False, random_state=None,\n",
              "                        verbose=0, warm_start=False),\n",
              " 'max_features': 1.0,\n",
              " 'max_samples': 0.8}"
            ]
          },
          "metadata": {
            "tags": []
          },
          "execution_count": 76
        }
      ]
    },
    {
      "cell_type": "code",
      "metadata": {
        "id": "zNPZQQyTLxFo",
        "colab_type": "code",
        "colab": {
          "base_uri": "https://localhost:8080/",
          "height": 34
        },
        "outputId": "2ab4f93d-077d-4972-a5e6-0edcb328de34"
      },
      "source": [
        "bag_after_cv = BaggingClassifier(\n",
        "                    max_features = bag_search.best_params_[\"max_features\"],\n",
        "                    max_samples = bag_search.best_params_[\"max_samples\"],\n",
        "                    base_estimator = bag_search.best_params_[\"base_estimator\"]\n",
        "                    )\n",
        "bag_after_cv.fit(x_train,y_train)\n",
        "bag_after_cv_pred = bag_after_cv.predict(x_test)\n",
        "accuracy_score(y_test, bag_after_cv_pred)"
      ],
      "execution_count": 77,
      "outputs": [
        {
          "output_type": "execute_result",
          "data": {
            "text/plain": [
              "0.8656716417910447"
            ]
          },
          "metadata": {
            "tags": []
          },
          "execution_count": 77
        }
      ]
    },
    {
      "cell_type": "markdown",
      "metadata": {
        "id": "HUwVk6T4UA2-",
        "colab_type": "text"
      },
      "source": [
        "#### Bagging CV Score"
      ]
    },
    {
      "cell_type": "code",
      "metadata": {
        "id": "lCNdo2Q8T_lV",
        "colab_type": "code",
        "colab": {
          "base_uri": "https://localhost:8080/",
          "height": 34
        },
        "outputId": "51180da0-9604-4add-ac9a-18af4e2b7901"
      },
      "source": [
        "bag_cvscore = cross_val_score(bag_after_cv,Train,y,scoring = 'accuracy',cv=kf)\n",
        "print('Average CV: ',sum(bag_cvscore)/5)"
      ],
      "execution_count": 78,
      "outputs": [
        {
          "output_type": "stream",
          "text": [
            "Average CV:  0.8305442219571905\n"
          ],
          "name": "stdout"
        }
      ]
    },
    {
      "cell_type": "markdown",
      "metadata": {
        "id": "CrreUIfotJtc",
        "colab_type": "text"
      },
      "source": [
        "### Combining the results from all models and Casting a vote for the Final Predictions"
      ]
    },
    {
      "cell_type": "code",
      "metadata": {
        "colab_type": "code",
        "id": "rLAJ4FuE_J_y",
        "trusted": true,
        "colab": {}
      },
      "source": [
        "# Predictions Table\n",
        "prediction_table = pd.DataFrame()"
      ],
      "execution_count": 79,
      "outputs": []
    },
    {
      "cell_type": "code",
      "metadata": {
        "colab_type": "code",
        "id": "5wq0OTJ2_V57",
        "trusted": true,
        "colab": {
          "base_uri": "https://localhost:8080/",
          "height": 332
        },
        "outputId": "051c5b8c-5c40-4470-adb3-0431e030e882"
      },
      "source": [
        "prediction_table['xg'] = xgb_after_cv_pred\n",
        "prediction_table['rfc'] = rfc_after_search_pred\n",
        "prediction_table['ada'] = ada_after_grid_pred\n",
        "prediction_table['bag'] = bag_after_cv_pred\n",
        "\n",
        "prediction_table.head(10)"
      ],
      "execution_count": 80,
      "outputs": [
        {
          "output_type": "execute_result",
          "data": {
            "text/html": [
              "<div>\n",
              "<style scoped>\n",
              "    .dataframe tbody tr th:only-of-type {\n",
              "        vertical-align: middle;\n",
              "    }\n",
              "\n",
              "    .dataframe tbody tr th {\n",
              "        vertical-align: top;\n",
              "    }\n",
              "\n",
              "    .dataframe thead th {\n",
              "        text-align: right;\n",
              "    }\n",
              "</style>\n",
              "<table border=\"1\" class=\"dataframe\">\n",
              "  <thead>\n",
              "    <tr style=\"text-align: right;\">\n",
              "      <th></th>\n",
              "      <th>xg</th>\n",
              "      <th>rfc</th>\n",
              "      <th>ada</th>\n",
              "      <th>bag</th>\n",
              "    </tr>\n",
              "  </thead>\n",
              "  <tbody>\n",
              "    <tr>\n",
              "      <th>0</th>\n",
              "      <td>0</td>\n",
              "      <td>0</td>\n",
              "      <td>0</td>\n",
              "      <td>0</td>\n",
              "    </tr>\n",
              "    <tr>\n",
              "      <th>1</th>\n",
              "      <td>0</td>\n",
              "      <td>0</td>\n",
              "      <td>0</td>\n",
              "      <td>0</td>\n",
              "    </tr>\n",
              "    <tr>\n",
              "      <th>2</th>\n",
              "      <td>0</td>\n",
              "      <td>0</td>\n",
              "      <td>0</td>\n",
              "      <td>0</td>\n",
              "    </tr>\n",
              "    <tr>\n",
              "      <th>3</th>\n",
              "      <td>1</td>\n",
              "      <td>1</td>\n",
              "      <td>1</td>\n",
              "      <td>1</td>\n",
              "    </tr>\n",
              "    <tr>\n",
              "      <th>4</th>\n",
              "      <td>0</td>\n",
              "      <td>1</td>\n",
              "      <td>1</td>\n",
              "      <td>1</td>\n",
              "    </tr>\n",
              "    <tr>\n",
              "      <th>5</th>\n",
              "      <td>0</td>\n",
              "      <td>0</td>\n",
              "      <td>0</td>\n",
              "      <td>0</td>\n",
              "    </tr>\n",
              "    <tr>\n",
              "      <th>6</th>\n",
              "      <td>1</td>\n",
              "      <td>1</td>\n",
              "      <td>1</td>\n",
              "      <td>1</td>\n",
              "    </tr>\n",
              "    <tr>\n",
              "      <th>7</th>\n",
              "      <td>1</td>\n",
              "      <td>1</td>\n",
              "      <td>1</td>\n",
              "      <td>1</td>\n",
              "    </tr>\n",
              "    <tr>\n",
              "      <th>8</th>\n",
              "      <td>0</td>\n",
              "      <td>0</td>\n",
              "      <td>0</td>\n",
              "      <td>0</td>\n",
              "    </tr>\n",
              "    <tr>\n",
              "      <th>9</th>\n",
              "      <td>1</td>\n",
              "      <td>1</td>\n",
              "      <td>1</td>\n",
              "      <td>1</td>\n",
              "    </tr>\n",
              "  </tbody>\n",
              "</table>\n",
              "</div>"
            ],
            "text/plain": [
              "   xg  rfc  ada  bag\n",
              "0   0    0    0    0\n",
              "1   0    0    0    0\n",
              "2   0    0    0    0\n",
              "3   1    1    1    1\n",
              "4   0    1    1    1\n",
              "5   0    0    0    0\n",
              "6   1    1    1    1\n",
              "7   1    1    1    1\n",
              "8   0    0    0    0\n",
              "9   1    1    1    1"
            ]
          },
          "metadata": {
            "tags": []
          },
          "execution_count": 80
        }
      ]
    },
    {
      "cell_type": "code",
      "metadata": {
        "colab_type": "code",
        "id": "iCQ53W04OhYh",
        "trusted": true,
        "colab": {}
      },
      "source": [
        "final_pred = round((prediction_table['xg']+prediction_table['rfc']+prediction_table['ada']+prediction_table['bag']) / 4, 0)"
      ],
      "execution_count": 81,
      "outputs": []
    },
    {
      "cell_type": "code",
      "metadata": {
        "colab_type": "code",
        "id": "hYRXFDfgOhSe",
        "trusted": true,
        "colab": {
          "base_uri": "https://localhost:8080/",
          "height": 52
        },
        "outputId": "5e1f48ca-c884-469c-b50a-9abbae6e8174"
      },
      "source": [
        "confusion_matrix(y_test,final_pred)"
      ],
      "execution_count": 82,
      "outputs": [
        {
          "output_type": "execute_result",
          "data": {
            "text/plain": [
              "array([[71,  8],\n",
              "       [15, 40]])"
            ]
          },
          "metadata": {
            "tags": []
          },
          "execution_count": 82
        }
      ]
    },
    {
      "cell_type": "code",
      "metadata": {
        "colab_type": "code",
        "id": "VwlW5bUnOhGW",
        "colab": {}
      },
      "source": [
        ""
      ],
      "execution_count": 82,
      "outputs": []
    },
    {
      "cell_type": "markdown",
      "metadata": {
        "colab_type": "text",
        "id": "dSDPxHMpDDt4"
      },
      "source": [
        "### Submissions"
      ]
    },
    {
      "cell_type": "code",
      "metadata": {
        "colab_type": "code",
        "id": "Byub0CzsD0L_",
        "trusted": true,
        "colab": {
          "base_uri": "https://localhost:8080/",
          "height": 34
        },
        "outputId": "01f0bd26-c052-45de-a437-31fa707aaafb"
      },
      "source": [
        "rfc_after_search.fit(Train,y)\n",
        "rfc_sub = pd.DataFrame({\n",
        "    'PassengerID': sub_id,\n",
        "    'Survived': rfc_after_search.predict(Test)\n",
        "})\n",
        "\n",
        "rfc_sub.to_csv('Random_Forest_submission.csv', index=False)\n",
        "print(\"Done\")"
      ],
      "execution_count": 83,
      "outputs": [
        {
          "output_type": "stream",
          "text": [
            "Done\n"
          ],
          "name": "stdout"
        }
      ]
    },
    {
      "cell_type": "code",
      "metadata": {
        "colab_type": "code",
        "id": "CqJVsqkwFFRn",
        "trusted": true,
        "colab": {
          "base_uri": "https://localhost:8080/",
          "height": 34
        },
        "outputId": "5332bdf0-41db-44ea-a330-5147c43ecca5"
      },
      "source": [
        "xgb_after_cv.fit(Train,y)\n",
        "\n",
        "xg_sub = pd.DataFrame({\n",
        "    'PassengerID': sub_id,\n",
        "    'Survived': xgb_after_cv.predict(Test)\n",
        "})\n",
        "\n",
        "xg_sub.to_csv('Xg_submission.csv', index=False)\n",
        "print(\"Done\")"
      ],
      "execution_count": 84,
      "outputs": [
        {
          "output_type": "stream",
          "text": [
            "Done\n"
          ],
          "name": "stdout"
        }
      ]
    },
    {
      "cell_type": "code",
      "metadata": {
        "colab_type": "code",
        "id": "sTZIS4TjFhgU",
        "trusted": true,
        "colab": {
          "base_uri": "https://localhost:8080/",
          "height": 34
        },
        "outputId": "4fbfc0e7-6eb3-439d-9c0f-e2dc2985fc5e"
      },
      "source": [
        "ada_after_grid.fit(Train,y)\n",
        "ada_sub = pd.DataFrame({\n",
        "    'PassengerID': sub_id,\n",
        "    'Survived': ada_after_grid.predict(Test)\n",
        "})\n",
        "\n",
        "ada_sub.to_csv('Ada_submission.csv', index=False)\n",
        "print(\"Done\")"
      ],
      "execution_count": 85,
      "outputs": [
        {
          "output_type": "stream",
          "text": [
            "Done\n"
          ],
          "name": "stdout"
        }
      ]
    },
    {
      "cell_type": "code",
      "metadata": {
        "colab_type": "code",
        "id": "-ROrYppJQu62",
        "trusted": true,
        "colab": {
          "base_uri": "https://localhost:8080/",
          "height": 34
        },
        "outputId": "de4daca2-a6c3-48f7-90f7-6d8c57ea0a2b"
      },
      "source": [
        "bag_after_cv.fit(Train,y)\n",
        "bag_sub = pd.DataFrame({\n",
        "    'PassengerID': sub_id,\n",
        "    'Survived': bag.predict(Test)\n",
        "})\n",
        "\n",
        "bag_sub.to_csv('Bag_submission.csv', index=False)\n",
        "print(\"Done\")"
      ],
      "execution_count": 86,
      "outputs": [
        {
          "output_type": "stream",
          "text": [
            "Done\n"
          ],
          "name": "stdout"
        }
      ]
    },
    {
      "cell_type": "markdown",
      "metadata": {
        "colab_type": "text",
        "id": "nSGuSBn9RK4O"
      },
      "source": [
        "#### Combined Submission Prediction\n"
      ]
    },
    {
      "cell_type": "code",
      "metadata": {
        "colab_type": "code",
        "id": "E_brS8d5RTUr",
        "trusted": true,
        "colab": {}
      },
      "source": [
        "comb_sub = pd.DataFrame()"
      ],
      "execution_count": 87,
      "outputs": []
    },
    {
      "cell_type": "code",
      "metadata": {
        "colab_type": "code",
        "id": "ew42EpbWRhjB",
        "trusted": true,
        "colab": {
          "base_uri": "https://localhost:8080/",
          "height": 189
        },
        "outputId": "8a8b035b-16cb-45ac-d875-b975fdf7c55e"
      },
      "source": [
        "comb_sub['xg'] = xg_sub.Survived\n",
        "comb_sub['rfc'] = rfc_sub.Survived\n",
        "comb_sub['ada'] = ada_sub.Survived\n",
        "comb_sub['bag'] = bag_sub.Survived\n",
        "\n",
        "comb_sub.head(5)"
      ],
      "execution_count": 88,
      "outputs": [
        {
          "output_type": "execute_result",
          "data": {
            "text/html": [
              "<div>\n",
              "<style scoped>\n",
              "    .dataframe tbody tr th:only-of-type {\n",
              "        vertical-align: middle;\n",
              "    }\n",
              "\n",
              "    .dataframe tbody tr th {\n",
              "        vertical-align: top;\n",
              "    }\n",
              "\n",
              "    .dataframe thead th {\n",
              "        text-align: right;\n",
              "    }\n",
              "</style>\n",
              "<table border=\"1\" class=\"dataframe\">\n",
              "  <thead>\n",
              "    <tr style=\"text-align: right;\">\n",
              "      <th></th>\n",
              "      <th>xg</th>\n",
              "      <th>rfc</th>\n",
              "      <th>ada</th>\n",
              "      <th>bag</th>\n",
              "    </tr>\n",
              "  </thead>\n",
              "  <tbody>\n",
              "    <tr>\n",
              "      <th>0</th>\n",
              "      <td>0</td>\n",
              "      <td>0</td>\n",
              "      <td>0</td>\n",
              "      <td>0</td>\n",
              "    </tr>\n",
              "    <tr>\n",
              "      <th>1</th>\n",
              "      <td>0</td>\n",
              "      <td>1</td>\n",
              "      <td>1</td>\n",
              "      <td>1</td>\n",
              "    </tr>\n",
              "    <tr>\n",
              "      <th>2</th>\n",
              "      <td>0</td>\n",
              "      <td>0</td>\n",
              "      <td>0</td>\n",
              "      <td>0</td>\n",
              "    </tr>\n",
              "    <tr>\n",
              "      <th>3</th>\n",
              "      <td>0</td>\n",
              "      <td>0</td>\n",
              "      <td>0</td>\n",
              "      <td>0</td>\n",
              "    </tr>\n",
              "    <tr>\n",
              "      <th>4</th>\n",
              "      <td>1</td>\n",
              "      <td>1</td>\n",
              "      <td>1</td>\n",
              "      <td>1</td>\n",
              "    </tr>\n",
              "  </tbody>\n",
              "</table>\n",
              "</div>"
            ],
            "text/plain": [
              "   xg  rfc  ada  bag\n",
              "0   0    0    0    0\n",
              "1   0    1    1    1\n",
              "2   0    0    0    0\n",
              "3   0    0    0    0\n",
              "4   1    1    1    1"
            ]
          },
          "metadata": {
            "tags": []
          },
          "execution_count": 88
        }
      ]
    },
    {
      "cell_type": "code",
      "metadata": {
        "colab_type": "code",
        "id": "Dq92Eg_GST4e",
        "trusted": true,
        "colab": {}
      },
      "source": [
        "final_sub = round((comb_sub['xg']+comb_sub['rfc']+comb_sub['ada']+comb_sub['bag']) / 4, 0)\n",
        "fin_sub = []\n",
        "for val in final_sub:\n",
        "    fin_sub.append(int(val))\n",
        "final_sub = fin_sub"
      ],
      "execution_count": 89,
      "outputs": []
    },
    {
      "cell_type": "code",
      "metadata": {
        "colab_type": "code",
        "id": "Z93Bw91RSuRS",
        "trusted": true,
        "colab": {
          "base_uri": "https://localhost:8080/",
          "height": 34
        },
        "outputId": "e7ebaa07-031a-4488-fa8c-6242aa4a0be5"
      },
      "source": [
        "combined_sub = pd.DataFrame({\n",
        "    'PassengerID': sub_id,\n",
        "    'Survived': final_sub\n",
        "})\n",
        "\n",
        "combined_sub.to_csv('combined_sub.csv', index=False)\n",
        "print(\"Done\")"
      ],
      "execution_count": 90,
      "outputs": [
        {
          "output_type": "stream",
          "text": [
            "Done\n"
          ],
          "name": "stdout"
        }
      ]
    },
    {
      "cell_type": "code",
      "metadata": {
        "colab_type": "code",
        "id": "kePD3hpqDBaL",
        "trusted": true,
        "colab": {
          "base_uri": "https://localhost:8080/",
          "height": 609
        },
        "outputId": "e174482b-10e2-40b2-9952-e61d847df786"
      },
      "source": [
        "#Checking importance of each feature\n",
        "features = pd.DataFrame()\n",
        "features['feature'] = Train.columns\n",
        "features['importance'] = ada_after_grid.feature_importances_\n",
        "features.sort_values(by=['importance'], ascending=True, inplace=True)\n",
        "features.set_index('feature', inplace=True)\n",
        "\n",
        "features.plot(kind='barh', figsize=(10,10))"
      ],
      "execution_count": 94,
      "outputs": [
        {
          "output_type": "execute_result",
          "data": {
            "text/plain": [
              "<matplotlib.axes._subplots.AxesSubplot at 0x7fcff4d169e8>"
            ]
          },
          "metadata": {
            "tags": []
          },
          "execution_count": 94
        },
        {
          "output_type": "display_data",
          "data": {
            "image/png": "[encoded data removed]",
            "text/plain": [
              "<Figure size 720x720 with 1 Axes>"
            ]
          },
          "metadata": {
            "tags": [],
            "needs_background": "light"
          }
        }
      ]
    },
    {
      "cell_type": "code",
      "metadata": {
        "colab_type": "code",
        "id": "W1zeYh9SSUqc",
        "colab": {}
      },
      "source": [
        ""
      ],
      "execution_count": 91,
      "outputs": []
    }
  ]
}